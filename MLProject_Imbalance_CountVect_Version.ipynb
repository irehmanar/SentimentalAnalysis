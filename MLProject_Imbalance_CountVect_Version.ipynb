{
 "cells": [
  {
   "cell_type": "code",
   "execution_count": 23,
   "metadata": {},
   "outputs": [],
   "source": [
    "# !pip install wordcloud\n",
    "from itertools import *\n",
    "from sklearn.feature_extraction.text import CountVectorizer\n",
    "# from nltk import word_tokenize          \n",
    "# from nltk.stem import WordNetLemmatizer \n",
    "\n",
    "# from nltk.corpus import wordnet\n",
    "\n",
    "from sklearn.model_selection import RepeatedKFold\n",
    "from sklearn.model_selection import train_test_split\n",
    "import matplotlib.pyplot as plt\n",
    "import matplotlib\n",
    "%matplotlib inline\n",
    " \n",
    "import seaborn as sns\n",
    "sns.set_style(\"darkgrid\")\n",
    "\n",
    "from sklearn.decomposition import PCA\n",
    "from sklearn.manifold import TSNE\n",
    "from scipy.sparse import csr_matrix\n",
    "import numpy as np\n",
    "import seaborn as sns\n",
    "\n",
    "\n",
    "from sklearn.preprocessing import StandardScaler\n",
    "from sklearn import metrics\n",
    "from sklearn.metrics import precision_score, recall_score, make_scorer\n",
    "\n",
    "from sklearn.neighbors import KNeighborsClassifier\n",
    "\n",
    "from sklearn import svm\n",
    "from sklearn.model_selection import cross_val_score\n",
    "\n",
    "from sklearn.naive_bayes import BernoulliNB, MultinomialNB\n",
    "from sklearn.linear_model import LogisticRegression\n",
    "from sklearn import tree\n",
    "from sklearn.discriminant_analysis import LinearDiscriminantAnalysis\n",
    "import seaborn as sns\n",
    "\n",
    "from wordcloud import WordCloud\n",
    "from sklearn.model_selection import train_test_split, GridSearchCV\n",
    "from sklearn.feature_extraction.text import CountVectorizer, TfidfVectorizer\n",
    "from sklearn.naive_bayes import BernoulliNB, MultinomialNB\n",
    "from sklearn.linear_model import LogisticRegression\n",
    "from sklearn.ensemble import RandomForestClassifier\n",
    "\n",
    "from imblearn.under_sampling import ClusterCentroids\n",
    "from sklearn.ensemble import AdaBoostClassifier\n",
    "from sklearn.metrics import classification_report\n",
    "# from sklearn.grid_search import GridSearchCV\n",
    "from sklearn.model_selection import StratifiedKFold\n",
    "from sklearn.metrics import confusion_matrix\n",
    "from imblearn.under_sampling import NearMiss, RandomUnderSampler\n",
    "import logging\n",
    "\n",
    "# !pip install -U -q PyDrive\n",
    "# !pip install -q glove_python\n",
    "import numpy as np\n",
    "import pandas as pd\n",
    "\n",
    "# import nltk\n",
    "# from nltk.tokenize import sent_tokenize,word_tokenize\n",
    "# from nltk.corpus import stopwords\n",
    "import string\n",
    "\n",
    "# nltk.download('stopwords')\n",
    "# nltk.download('punkt')\n",
    "# nltk.download('averaged_perceptron_tagger')\n",
    "# nltk.download('maxent_ne_chunker')\n",
    "# nltk.download('words')\n",
    "# nltk.download('universal_tagset')\n",
    "# nltk.download('wordnet')\n",
    "# lemmatizer = nltk.WordNetLemmatizer()\n",
    "from bs4 import BeautifulSoup  \n",
    "import re\n",
    "# import nltk\n",
    "# from nltk.corpus import stopwords \n",
    "# from nltk.stem.porter import PorterStemmer\n",
    "# from nltk.stem import SnowballStemmer, WordNetLemmatizer\n",
    "# from nltk import sent_tokenize, word_tokenize, pos_tag\n",
    "from sklearn.feature_selection import SelectKBest\n",
    "from sklearn.feature_selection import chi2\n",
    "from sklearn.svm import SVC"
   ]
  },
  {
   "cell_type": "code",
   "execution_count": 8,
   "metadata": {},
   "outputs": [],
   "source": [
    "df = pd.read_json('E:\\Semester5\\ML\\Project\\Electronics_5.json', orient='columns',lines=True)"
   ]
  },
  {
   "cell_type": "code",
   "execution_count": 9,
   "metadata": {},
   "outputs": [],
   "source": [
    "# Remove any 'neutral' ratings equal to 3\n",
    "df = df[df['overall'] != 3]\n",
    "\n",
    "# # df = pd.concat(f1)\n",
    "# df = df.sample(frac=0.7, random_state=0) #uncomment to use full set of data\n",
    "# # Drop missing values\n",
    "df.dropna(inplace=True)\n",
    "\n",
    "# Encode 4s and 5s as 1 (positive sentiment) and 1s and 2s as 0 (negative sentiment)\n",
    "df['Sentiment'] = np.where(df['overall'] > 3, 1, 0)"
   ]
  },
  {
   "cell_type": "code",
   "execution_count": null,
   "metadata": {},
   "outputs": [
    {
     "name": "stdout",
     "output_type": "stream",
     "text": [
      "Sentiment\n",
      "1    1336329\n",
      "0     187942\n",
      "Name: count, dtype: int64\n"
     ]
    }
   ],
   "source": [
    "print(df['Sentiment'].value_counts())\n"
   ]
  },
  {
   "cell_type": "code",
   "execution_count": 11,
   "metadata": {},
   "outputs": [],
   "source": [
    "# Sort the dataset by the 'overall' column\n",
    "df = df.sort_values(by=['Sentiment'])\n",
    "\n",
    "# Select the first 20,000 rows for negative sentiment\n",
    "dfnegative = df[df['Sentiment'] == 0].head(20000)\n",
    "\n",
    "# Select the first 20,000 rows for positive sentiment\n",
    "dfpositive = df[df['Sentiment'] == 1].head(20000)\n",
    "\n",
    "# Combine both datasets\n",
    "df = pd.concat([dfnegative, dfpositive])\n"
   ]
  },
  {
   "cell_type": "code",
   "execution_count": null,
   "metadata": {},
   "outputs": [
    {
     "name": "stdout",
     "output_type": "stream",
     "text": [
      "The Number of Reviews less than rating 3\n"
     ]
    },
    {
     "data": {
      "text/plain": [
       "(20000, 10)"
      ]
     },
     "execution_count": 12,
     "metadata": {},
     "output_type": "execute_result"
    }
   ],
   "source": [
    "print(\"The Number of Reviews less than rating 3\")\n",
    "df[df['overall'] < 3].shape"
   ]
  },
  {
   "cell_type": "code",
   "execution_count": null,
   "metadata": {},
   "outputs": [
    {
     "name": "stdout",
     "output_type": "stream",
     "text": [
      "The Number of Reviews greater than 3\n"
     ]
    },
    {
     "data": {
      "text/plain": [
       "(20000, 10)"
      ]
     },
     "execution_count": 13,
     "metadata": {},
     "output_type": "execute_result"
    }
   ],
   "source": [
    "print(\"The Number of Reviews greater than 3\")\n",
    "df[df['overall'] > 3].shape"
   ]
  },
  {
   "cell_type": "code",
   "execution_count": 14,
   "metadata": {},
   "outputs": [
    {
     "name": "stdout",
     "output_type": "stream",
     "text": [
      "The Size of Dataset (40000, 10)\n",
      "Distribution of Positive and Negative Reviews, Three being the threshold\n"
     ]
    },
    {
     "data": {
      "text/plain": [
       "array([[<Axes: title={'center': 'overall'}>]], dtype=object)"
      ]
     },
     "execution_count": 14,
     "metadata": {},
     "output_type": "execute_result"
    },
    {
     "data": {
      "image/png": "[encoded data removed]",
      "text/plain": [
       "<Figure size 640x480 with 1 Axes>"
      ]
     },
     "metadata": {},
     "output_type": "display_data"
    }
   ],
   "source": [
    "print(\"The Size of Dataset\",df.shape)\n",
    "print('Distribution of Positive and Negative Reviews, Three being the threshold')\n",
    "df.hist('overall')"
   ]
  },
  {
   "cell_type": "code",
   "execution_count": null,
   "metadata": {},
   "outputs": [
    {
     "name": "stdout",
     "output_type": "stream",
     "text": [
      "The Size of Dataset (40000, 10)\n",
      "Distribution of Positive and Negative Reviews, Three being the threshold\n"
     ]
    },
    {
     "data": {
      "text/plain": [
       "array([[<Axes: title={'center': 'overall'}>]], dtype=object)"
      ]
     },
     "execution_count": 15,
     "metadata": {},
     "output_type": "execute_result"
    },
    {
     "data": {
      "image/png": "[encoded data removed]",
      "text/plain": [
       "<Figure size 640x480 with 1 Axes>"
      ]
     },
     "metadata": {},
     "output_type": "display_data"
    }
   ],
   "source": [
    "print(\"The Size of Dataset\",df.shape)\n",
    "print('Distribution of Positive and Negative Reviews, Three being the threshold')\n",
    "df.hist('overall')"
   ]
  },
  {
   "cell_type": "code",
   "execution_count": 16,
   "metadata": {},
   "outputs": [],
   "source": [
    "X = df['reviewText']\n",
    "y = df['Sentiment']"
   ]
  },
  {
   "cell_type": "code",
   "execution_count": 17,
   "metadata": {},
   "outputs": [],
   "source": [
    "def cleanText(raw_text, remove_stopwords=True, stemming=False, split_text=False, \\\n",
    "             ):\n",
    "    '''\n",
    "    Convert a raw review to a cleaned review\n",
    "    '''\n",
    "    text = BeautifulSoup(raw_text, 'lxml').get_text()  #remove html\n",
    "    letters_only = re.sub(\"[^a-zA-Z]\", \" \", text)  # remove non-character\n",
    "    words = letters_only.lower().split() # convert to lower case \n",
    "    \n",
    "    if remove_stopwords: # remove stopword\n",
    "        stops = set(stopwords.words(\"english\"))\n",
    "        stops.remove('not')\n",
    "        stops.remove('no')\n",
    "        words = [w for w in words if not w in stops]\n",
    "    if stemming==True: # stemming\n",
    "        stemmer = PorterStemmer()\n",
    "        stemmer = SnowballStemmer('english') \n",
    "        words = [stemmer.stem(w) for w in words]\n",
    "        \n",
    "    if split_text==True:  # split text\n",
    "        return (words)\n",
    "    \n",
    "    return( \" \".join(words))"
   ]
  },
  {
   "cell_type": "code",
   "execution_count": 18,
   "metadata": {},
   "outputs": [
    {
     "ename": "NameError",
     "evalue": "name 'stopwords' is not defined",
     "output_type": "error",
     "traceback": [
      "\u001b[1;31m---------------------------------------------------------------------------\u001b[0m",
      "\u001b[1;31mNameError\u001b[0m                                 Traceback (most recent call last)",
      "Cell \u001b[1;32mIn[18], line 4\u001b[0m\n\u001b[0;32m      1\u001b[0m X_cleaned \u001b[38;5;241m=\u001b[39m []\n\u001b[0;32m      3\u001b[0m \u001b[38;5;28;01mfor\u001b[39;00m d \u001b[38;5;129;01min\u001b[39;00m X:\n\u001b[1;32m----> 4\u001b[0m     X_cleaned\u001b[38;5;241m.\u001b[39mappend(\u001b[43mcleanText\u001b[49m\u001b[43m(\u001b[49m\u001b[43md\u001b[49m\u001b[43m)\u001b[49m)\n",
      "Cell \u001b[1;32mIn[17], line 11\u001b[0m, in \u001b[0;36mcleanText\u001b[1;34m(raw_text, remove_stopwords, stemming, split_text)\u001b[0m\n\u001b[0;32m      8\u001b[0m words \u001b[38;5;241m=\u001b[39m letters_only\u001b[38;5;241m.\u001b[39mlower()\u001b[38;5;241m.\u001b[39msplit() \u001b[38;5;66;03m# convert to lower case \u001b[39;00m\n\u001b[0;32m     10\u001b[0m \u001b[38;5;28;01mif\u001b[39;00m remove_stopwords: \u001b[38;5;66;03m# remove stopword\u001b[39;00m\n\u001b[1;32m---> 11\u001b[0m     stops \u001b[38;5;241m=\u001b[39m \u001b[38;5;28mset\u001b[39m(\u001b[43mstopwords\u001b[49m\u001b[38;5;241m.\u001b[39mwords(\u001b[38;5;124m\"\u001b[39m\u001b[38;5;124menglish\u001b[39m\u001b[38;5;124m\"\u001b[39m))\n\u001b[0;32m     12\u001b[0m     stops\u001b[38;5;241m.\u001b[39mremove(\u001b[38;5;124m'\u001b[39m\u001b[38;5;124mnot\u001b[39m\u001b[38;5;124m'\u001b[39m)\n\u001b[0;32m     13\u001b[0m     stops\u001b[38;5;241m.\u001b[39mremove(\u001b[38;5;124m'\u001b[39m\u001b[38;5;124mno\u001b[39m\u001b[38;5;124m'\u001b[39m)\n",
      "\u001b[1;31mNameError\u001b[0m: name 'stopwords' is not defined"
     ]
    }
   ],
   "source": [
    "X_cleaned = []\n",
    "    \n",
    "for d in X:\n",
    "    X_cleaned.append(cleanText(d))"
   ]
  },
  {
   "cell_type": "code",
   "execution_count": null,
   "metadata": {},
   "outputs": [],
   "source": [
    "from sklearn.pipeline import Pipeline\n",
    "\n",
    "\n",
    "def grid_search(X_train, y_train,X_test,y_test):\n",
    "    classifiers = ['Adaboost','KNN','SVM','MNB','LR'];\n",
    "    pipeline1 = Pipeline([(\n",
    "    ('clf', AdaBoostClassifier())\n",
    "    )])\n",
    "\n",
    "    pipeline2 = Pipeline([(\n",
    "    ('clf', KNeighborsClassifier())\n",
    "    )])\n",
    "\n",
    "    pipeline3 = Pipeline([(\n",
    "    ('clf', SVC())\n",
    "    )])\n",
    "\n",
    "    pipeline4 = Pipeline([(\n",
    "    ('clf', MultinomialNB())\n",
    "    )])\n",
    "    \n",
    "    pipeline5 = Pipeline([(\n",
    "    ('clf', LogisticRegression())\n",
    "    )])\n",
    "\n",
    "    parameters1 = {\n",
    "    'clf__n_estimators': [50,100,150],\n",
    "        'clf__learning_rate': [0.1,1.0],\n",
    "\n",
    "    }\n",
    "\n",
    "    parameters2 = {\n",
    "    'clf__n_neighbors': [3, 5, 7, 10],\n",
    "    'clf__weights': ['uniform', 'distance'],\n",
    "    }\n",
    "\n",
    "    parameters3 = {\n",
    "    'clf__C': [0.01, 0.1, 1.0],\n",
    "    'clf__kernel': ['linear'],\n",
    "    'clf__gamma': [0.01, 0.1, 1.0],\n",
    "\n",
    "    }\n",
    "    parameters4 = {\n",
    "    'clf__alpha': [0.01, 0.1, 1.0],\n",
    "    }\n",
    "    \n",
    "    parameters5 = {\n",
    "        'clf__C': [0.001, 0.01, 0.1, 1.0, 10.0, 100.0, 1000.0], \n",
    "        \"clf__penalty\":[\"l1\",\"l2\"]\n",
    "    }\n",
    "\n",
    "    pars = [parameters3]\n",
    "    pips = [pipeline3]\n",
    "\n",
    "    print (\"Starting Gridsearch..\")\n",
    "    for i in range(len(pars)):\n",
    "        gs = GridSearchCV(pips[i], pars[i], verbose=2, n_jobs=-1)\n",
    "        gs = gs.fit(X_train, y_train)\n",
    "        print (\"Finished Gridsearch For\",classifiers[i])\n",
    "        print('The Best Model Achieved for {} with Score {} and the best parameters are {}'.format(classifiers[i],gs.best_score_,gs.best_params_))\n",
    "        y_pred = gs.predict(X_test)\n",
    "        print(\"Accuracy:\",metrics.accuracy_score(y_test,y_pred))\n",
    "        print(classification_report(y_test, y_pred, target_names=target_names))\n",
    "        print(\"Confusion Matrix\",confusion_matrix(y_test, y_pred))    \n",
    "    return"
   ]
  },
  {
   "cell_type": "code",
   "execution_count": null,
   "metadata": {},
   "outputs": [],
   "source": [
    "countVect = CountVectorizer(min_df=50, ngram_range=(1,2), strip_accents='unicode', binary=True)\n",
    "X_all_countVect = countVect.fit_transform(X_cleaned)\n",
    "\n",
    "print(\"Number of features : %d \\n\" % len(countVect.get_feature_names_out()))  # 1722\n",
    "print(\"Show some feature names : \\n\", countVect.get_feature_names_out()[::1000])\n"
   ]
  },
  {
   "cell_type": "code",
   "execution_count": null,
   "metadata": {},
   "outputs": [],
   "source": [
    "def knn_classifier(X_train_countVect,y_train,X_test_countVect,y_test,target): \n",
    "    classifier=KNeighborsClassifier(n_neighbors=5)\n",
    "    classifier.fit(X_train_countVect,y_train)\n",
    "\n",
    "    y_pred=classifier.predict(X_test_countVect)\n",
    "\n",
    "    y_pred_train = classifier.predict(X_train_countVect)\n",
    "    # print('KNN Results:')\n",
    "    # print(\"KNN Accuracy:\",metrics.accuracy_score(y_test,y_pred))\n",
    "    # print(classification_report(y_test, y_pred))\n",
    "    # print(\"Confusion Matrix\",confusion_matrix(y_test, y_pred))    \n",
    "    # print(\"KNN Train Accuracy:\",metrics.accuracy_score(y_train,y_pred_train))\n",
    "    # print(classification_report(y_train, y_pred_train))\n",
    "    \n",
    "    return metrics.accuracy_score(y_test,y_pred)"
   ]
  },
  {
   "cell_type": "code",
   "execution_count": null,
   "metadata": {},
   "outputs": [],
   "source": [
    "#SVM\n",
    "def svc_classifier(X_train_countVect,y_train,X_test_countVect,y_test,target_names): \n",
    "  from sklearn import svm\n",
    "  clf=svm.SVC(kernel='linear')\n",
    "  clf.fit(X_train_countVect,y_train)\n",
    "\n",
    "  y_pred=clf.predict(X_test_countVect)\n",
    "  \n",
    "  y_pred_train =clf.predict(X_train_countVect)\n",
    "\n",
    "# scores = cross_val_score(clf, iris.data, iris.target, cv=5)\n",
    "# print(\"scores\",scores.avg)\n",
    "  # print('SVM Results:')\n",
    "  # print(\"SVM Accuracy:\",metrics.accuracy_score(y_test,y_pred))\n",
    "  # print(classification_report(y_test, y_pred, target_names=target_names))\n",
    "  # print(\"Confusion Matrix\",confusion_matrix(y_test, y_pred))    \n",
    "  # print(\"SVM Train Accuracy:\",metrics.accuracy_score(y_train,y_pred_train))\n",
    "  # print(classification_report(y_train, y_pred_train, target_names=target_names))\n",
    "\n",
    "  return metrics.accuracy_score(y_test,y_pred)\n",
    "  \n",
    "  "
   ]
  },
  {
   "cell_type": "code",
   "execution_count": null,
   "metadata": {},
   "outputs": [],
   "source": [
    "# Naive Bayes classifier\n",
    "def nb_classifier(X_train_countVect,y_train,X_test_countVect,y_test,target_names): \n",
    "\n",
    "  clf = MultinomialNB()\n",
    "  clf.fit(X_train_countVect.toarray(),y_train)\n",
    "\n",
    "  y_pred=clf.predict(X_test_countVect)\n",
    "\n",
    "  y_pred_train =clf.predict(X_train_countVect)\n",
    "#   print('NB Results:')\n",
    "# #   y_pred_train =clf.predict(countVect.transform(X_test_cleaned))\n",
    "#   print(\"MNB Accuracy:\",metrics.accuracy_score(y_test,y_pred))\n",
    "#   print(classification_report(y_test, y_pred, target_names=target_names))\n",
    "#   print(\"Confusion Matrix\",confusion_matrix(y_test, y_pred))    \n",
    "#   print(\"MNB Train Accuracy:\",metrics.accuracy_score(y_train,y_pred_train))\n",
    "#   print(classification_report(y_train, y_pred_train, target_names=target_names))\n",
    "\n",
    "  return metrics.accuracy_score(y_test,y_pred)\n",
    "  \n",
    "\n",
    "\n"
   ]
  },
  {
   "cell_type": "code",
   "execution_count": null,
   "metadata": {},
   "outputs": [],
   "source": [
    "# Logistic Regression\n",
    "def lr_classifier(X_train_countVect,y_train,X_test_countVect,y_test,target_names): \n",
    "  lr = LogisticRegression()\n",
    "  lr.fit(X_train_countVect.toarray(), y_train)\n",
    "\n",
    "\n",
    "  y_pred=lr.predict(X_test_countVect)\n",
    "\n",
    "  y_pred_train =lr.predict(X_train_countVect)\n",
    "  # print('LR Results:')\n",
    "  # #   y_pred_train =clf.predict(countVect.transform(X_test_cleaned))\n",
    "  # print(\"LR Accuracy:\",metrics.accuracy_score(y_test,y_pred))\n",
    "  # print(classification_report(y_test, y_pred, target_names=target_names))\n",
    "  # print(\"Confusion Matrix\",confusion_matrix(y_test, y_pred))    \n",
    "  # print(\"LR Train Accuracy:\",metrics.accuracy_score(y_train,y_pred_train))\n",
    "  # print(classification_report(y_train, y_pred_train, target_names=target_names))\n",
    "  \n",
    "  return metrics.accuracy_score(y_test,y_pred)\n",
    "\n",
    "\n"
   ]
  },
  {
   "cell_type": "code",
   "execution_count": 19,
   "metadata": {},
   "outputs": [],
   "source": [
    "# #   Decision Trees\n",
    "def dt_classifier(X_train_countVect,y_train,X_test_countVect,y_test,target_names): \n",
    "  clf = AdaBoostClassifier(n_estimators=400,learning_rate=1)\n",
    "  clf.fit(X_train_countVect,y_train)\n",
    "  \n",
    "  y_pred=clf.predict(X_test_countVect)\n",
    "  \n",
    "  y_pred_train =clf.predict(X_train_countVect)\n",
    "\n",
    "\n",
    "  # print('Adaboosting Results:')\n",
    "  # print(\"Adaboosting DT Accuracy:\",metrics.accuracy_score(y_test,y_pred))\n",
    "  # print(classification_report(y_test, y_pred, target_names=target_names))\n",
    "  # print(\"Confusion Matrix\",confusion_matrix(y_test, y_pred))    \n",
    "  # print(\"Adaboosting DT Train Accuracy:\",metrics.accuracy_score(y_train,y_pred_train))\n",
    "  # print(classification_report(y_train, y_pred_train, target_names=target_names))\n",
    "  \n",
    "  return metrics.accuracy_score(y_test,y_pred)"
   ]
  },
  {
   "cell_type": "code",
   "execution_count": 22,
   "metadata": {},
   "outputs": [
    {
     "ename": "ValueError",
     "evalue": "empty vocabulary; perhaps the documents only contain stop words",
     "output_type": "error",
     "traceback": [
      "\u001b[1;31m---------------------------------------------------------------------------\u001b[0m",
      "\u001b[1;31mValueError\u001b[0m                                Traceback (most recent call last)",
      "Cell \u001b[1;32mIn[22], line 2\u001b[0m\n\u001b[0;32m      1\u001b[0m countVect \u001b[38;5;241m=\u001b[39m CountVectorizer(min_df\u001b[38;5;241m=\u001b[39m\u001b[38;5;241m50\u001b[39m, ngram_range\u001b[38;5;241m=\u001b[39m(\u001b[38;5;241m1\u001b[39m,\u001b[38;5;241m2\u001b[39m), strip_accents\u001b[38;5;241m=\u001b[39m\u001b[38;5;124m'\u001b[39m\u001b[38;5;124municode\u001b[39m\u001b[38;5;124m'\u001b[39m, binary\u001b[38;5;241m=\u001b[39m\u001b[38;5;28;01mTrue\u001b[39;00m)\n\u001b[1;32m----> 2\u001b[0m X_all_countVect \u001b[38;5;241m=\u001b[39m \u001b[43mcountVect\u001b[49m\u001b[38;5;241;43m.\u001b[39;49m\u001b[43mfit_transform\u001b[49m\u001b[43m(\u001b[49m\u001b[43mX_cleaned\u001b[49m\u001b[43m)\u001b[49m\n\u001b[0;32m      4\u001b[0m \u001b[38;5;28mprint\u001b[39m(\u001b[38;5;124m\"\u001b[39m\u001b[38;5;124mNumber of features : \u001b[39m\u001b[38;5;132;01m%d\u001b[39;00m\u001b[38;5;124m \u001b[39m\u001b[38;5;130;01m\\n\u001b[39;00m\u001b[38;5;124m\"\u001b[39m \u001b[38;5;241m%\u001b[39m \u001b[38;5;28mlen\u001b[39m(countVect\u001b[38;5;241m.\u001b[39mget_feature_names_out()))  \u001b[38;5;66;03m# 1722\u001b[39;00m\n\u001b[0;32m      5\u001b[0m \u001b[38;5;28mprint\u001b[39m(\u001b[38;5;124m\"\u001b[39m\u001b[38;5;124mShow some feature names : \u001b[39m\u001b[38;5;130;01m\\n\u001b[39;00m\u001b[38;5;124m\"\u001b[39m, countVect\u001b[38;5;241m.\u001b[39mget_feature_names_out()[::\u001b[38;5;241m1000\u001b[39m])\n",
      "File \u001b[1;32m~\\AppData\\Roaming\\Python\\Python311\\site-packages\\sklearn\\base.py:1473\u001b[0m, in \u001b[0;36m_fit_context.<locals>.decorator.<locals>.wrapper\u001b[1;34m(estimator, *args, **kwargs)\u001b[0m\n\u001b[0;32m   1466\u001b[0m     estimator\u001b[38;5;241m.\u001b[39m_validate_params()\n\u001b[0;32m   1468\u001b[0m \u001b[38;5;28;01mwith\u001b[39;00m config_context(\n\u001b[0;32m   1469\u001b[0m     skip_parameter_validation\u001b[38;5;241m=\u001b[39m(\n\u001b[0;32m   1470\u001b[0m         prefer_skip_nested_validation \u001b[38;5;129;01mor\u001b[39;00m global_skip_validation\n\u001b[0;32m   1471\u001b[0m     )\n\u001b[0;32m   1472\u001b[0m ):\n\u001b[1;32m-> 1473\u001b[0m     \u001b[38;5;28;01mreturn\u001b[39;00m \u001b[43mfit_method\u001b[49m\u001b[43m(\u001b[49m\u001b[43mestimator\u001b[49m\u001b[43m,\u001b[49m\u001b[43m \u001b[49m\u001b[38;5;241;43m*\u001b[39;49m\u001b[43margs\u001b[49m\u001b[43m,\u001b[49m\u001b[43m \u001b[49m\u001b[38;5;241;43m*\u001b[39;49m\u001b[38;5;241;43m*\u001b[39;49m\u001b[43mkwargs\u001b[49m\u001b[43m)\u001b[49m\n",
      "File \u001b[1;32m~\\AppData\\Roaming\\Python\\Python311\\site-packages\\sklearn\\feature_extraction\\text.py:1372\u001b[0m, in \u001b[0;36mCountVectorizer.fit_transform\u001b[1;34m(self, raw_documents, y)\u001b[0m\n\u001b[0;32m   1364\u001b[0m             warnings\u001b[38;5;241m.\u001b[39mwarn(\n\u001b[0;32m   1365\u001b[0m                 \u001b[38;5;124m\"\u001b[39m\u001b[38;5;124mUpper case characters found in\u001b[39m\u001b[38;5;124m\"\u001b[39m\n\u001b[0;32m   1366\u001b[0m                 \u001b[38;5;124m\"\u001b[39m\u001b[38;5;124m vocabulary while \u001b[39m\u001b[38;5;124m'\u001b[39m\u001b[38;5;124mlowercase\u001b[39m\u001b[38;5;124m'\u001b[39m\u001b[38;5;124m\"\u001b[39m\n\u001b[0;32m   1367\u001b[0m                 \u001b[38;5;124m\"\u001b[39m\u001b[38;5;124m is True. These entries will not\u001b[39m\u001b[38;5;124m\"\u001b[39m\n\u001b[0;32m   1368\u001b[0m                 \u001b[38;5;124m\"\u001b[39m\u001b[38;5;124m be matched with any documents\u001b[39m\u001b[38;5;124m\"\u001b[39m\n\u001b[0;32m   1369\u001b[0m             )\n\u001b[0;32m   1370\u001b[0m             \u001b[38;5;28;01mbreak\u001b[39;00m\n\u001b[1;32m-> 1372\u001b[0m vocabulary, X \u001b[38;5;241m=\u001b[39m \u001b[38;5;28;43mself\u001b[39;49m\u001b[38;5;241;43m.\u001b[39;49m\u001b[43m_count_vocab\u001b[49m\u001b[43m(\u001b[49m\u001b[43mraw_documents\u001b[49m\u001b[43m,\u001b[49m\u001b[43m \u001b[49m\u001b[38;5;28;43mself\u001b[39;49m\u001b[38;5;241;43m.\u001b[39;49m\u001b[43mfixed_vocabulary_\u001b[49m\u001b[43m)\u001b[49m\n\u001b[0;32m   1374\u001b[0m \u001b[38;5;28;01mif\u001b[39;00m \u001b[38;5;28mself\u001b[39m\u001b[38;5;241m.\u001b[39mbinary:\n\u001b[0;32m   1375\u001b[0m     X\u001b[38;5;241m.\u001b[39mdata\u001b[38;5;241m.\u001b[39mfill(\u001b[38;5;241m1\u001b[39m)\n",
      "File \u001b[1;32m~\\AppData\\Roaming\\Python\\Python311\\site-packages\\sklearn\\feature_extraction\\text.py:1278\u001b[0m, in \u001b[0;36mCountVectorizer._count_vocab\u001b[1;34m(self, raw_documents, fixed_vocab)\u001b[0m\n\u001b[0;32m   1276\u001b[0m     vocabulary \u001b[38;5;241m=\u001b[39m \u001b[38;5;28mdict\u001b[39m(vocabulary)\n\u001b[0;32m   1277\u001b[0m     \u001b[38;5;28;01mif\u001b[39;00m \u001b[38;5;129;01mnot\u001b[39;00m vocabulary:\n\u001b[1;32m-> 1278\u001b[0m         \u001b[38;5;28;01mraise\u001b[39;00m \u001b[38;5;167;01mValueError\u001b[39;00m(\n\u001b[0;32m   1279\u001b[0m             \u001b[38;5;124m\"\u001b[39m\u001b[38;5;124mempty vocabulary; perhaps the documents only contain stop words\u001b[39m\u001b[38;5;124m\"\u001b[39m\n\u001b[0;32m   1280\u001b[0m         )\n\u001b[0;32m   1282\u001b[0m \u001b[38;5;28;01mif\u001b[39;00m indptr[\u001b[38;5;241m-\u001b[39m\u001b[38;5;241m1\u001b[39m] \u001b[38;5;241m>\u001b[39m np\u001b[38;5;241m.\u001b[39miinfo(np\u001b[38;5;241m.\u001b[39mint32)\u001b[38;5;241m.\u001b[39mmax:  \u001b[38;5;66;03m# = 2**31 - 1\u001b[39;00m\n\u001b[0;32m   1283\u001b[0m     \u001b[38;5;28;01mif\u001b[39;00m _IS_32BIT:\n",
      "\u001b[1;31mValueError\u001b[0m: empty vocabulary; perhaps the documents only contain stop words"
     ]
    }
   ],
   "source": [
    "countVect = CountVectorizer(min_df=50, ngram_range=(1,2), strip_accents='unicode', binary=True)\n",
    "X_all_countVect = countVect.fit_transform(X_cleaned)\n",
    "\n",
    "print(\"Number of features : %d \\n\" % len(countVect.get_feature_names_out()))  # 1722\n",
    "print(\"Show some feature names : \\n\", countVect.get_feature_names_out()[::1000])\n"
   ]
  },
  {
   "cell_type": "code",
   "execution_count": 21,
   "metadata": {},
   "outputs": [
    {
     "ename": "NameError",
     "evalue": "name 'X_all_countVect' is not defined",
     "output_type": "error",
     "traceback": [
      "\u001b[1;31m---------------------------------------------------------------------------\u001b[0m",
      "\u001b[1;31mNameError\u001b[0m                                 Traceback (most recent call last)",
      "Cell \u001b[1;32mIn[21], line 7\u001b[0m\n\u001b[0;32m      5\u001b[0m lr \u001b[38;5;241m=\u001b[39m []\n\u001b[0;32m      6\u001b[0m rus \u001b[38;5;241m=\u001b[39m RandomUnderSampler(random_state\u001b[38;5;241m=\u001b[39m\u001b[38;5;241m777\u001b[39m)\n\u001b[1;32m----> 7\u001b[0m X_RUS, y_RUS \u001b[38;5;241m=\u001b[39m rus\u001b[38;5;241m.\u001b[39mfit_resample(\u001b[43mX_all_countVect\u001b[49m, y)  \u001b[38;5;66;03m# Updated method\u001b[39;00m\n\u001b[0;32m      8\u001b[0m target_names \u001b[38;5;241m=\u001b[39m [\u001b[38;5;124m'\u001b[39m\u001b[38;5;124mPositive\u001b[39m\u001b[38;5;124m'\u001b[39m, \u001b[38;5;124m'\u001b[39m\u001b[38;5;124mNegative\u001b[39m\u001b[38;5;124m'\u001b[39m]\n\u001b[0;32m      9\u001b[0m skf \u001b[38;5;241m=\u001b[39m StratifiedKFold(n_splits\u001b[38;5;241m=\u001b[39m\u001b[38;5;241m5\u001b[39m, random_state\u001b[38;5;241m=\u001b[39m\u001b[38;5;28;01mNone\u001b[39;00m, shuffle\u001b[38;5;241m=\u001b[39m\u001b[38;5;28;01mFalse\u001b[39;00m)\n",
      "\u001b[1;31mNameError\u001b[0m: name 'X_all_countVect' is not defined"
     ]
    }
   ],
   "source": [
    "knn = []\n",
    "svm = []\n",
    "dt = []\n",
    "nb = []\n",
    "lr = []\n",
    "rus = RandomUnderSampler(random_state=777)\n",
    "X_RUS, y_RUS = rus.fit_resample(X_all_countVect, y)  # Updated method\n",
    "target_names = ['Positive', 'Negative']\n",
    "skf = StratifiedKFold(n_splits=5, random_state=None, shuffle=False)\n",
    "\n",
    "for train_index, test_index in skf.split(X_RUS, y_RUS):\n",
    "    X_train_countVect = X_RUS[train_index]\n",
    "    y_train = y_RUS[train_index]\n",
    "    X_test_countVect = X_RUS[test_index]\n",
    "    y_test = y_RUS[test_index]\n",
    "    \n",
    "    knn_mean = knn_classifier(X_train_countVect, y_train, X_test_countVect, y_test, target_names)\n",
    "    knn.append(knn_mean)\n",
    "    dt_mean = dt_classifier(X_train_countVect, y_train, X_test_countVect, y_test, target_names)\n",
    "    dt.append(dt_mean)\n",
    "    nb_mean = nb_classifier(X_train_countVect, y_train, X_test_countVect, y_test, target_names)\n",
    "    nb.append(nb_mean)\n",
    "    lr_mean = lr_classifier(X_train_countVect, y_train, X_test_countVect, y_test, target_names)\n",
    "    lr.append(lr_mean)\n",
    "    svm_mean = svc_classifier(X_train_countVect, y_train, X_test_countVect, y_test, target_names)\n",
    "    svm.append(svm_mean)\n",
    "\n",
    "    print('The Accuracy for KNN:', sum(knn) / len(knn))\n",
    "    print('The Accuracy for SVM:', sum(svm) / len(svm))\n",
    "    print('The Accuracy for DT:', sum(dt) / len(dt))\n",
    "    print('The Accuracy for MNB:', sum(nb) / len(nb))\n",
    "    print('The Accuracy for LR:', sum(lr) / len(lr))\n"
   ]
  },
  {
   "cell_type": "code",
   "execution_count": null,
   "metadata": {},
   "outputs": [],
   "source": []
  }
 ],
 "metadata": {
  "kernelspec": {
   "display_name": "Python 3",
   "language": "python",
   "name": "python3"
  },
  "language_info": {
   "codemirror_mode": {
    "name": "ipython",
    "version": 3
   },
   "file_extension": ".py",
   "mimetype": "text/x-python",
   "name": "python",
   "nbconvert_exporter": "python",
   "pygments_lexer": "ipython3",
   "version": "3.11.1"
  }
 },
 "nbformat": 4,
 "nbformat_minor": 2
}
