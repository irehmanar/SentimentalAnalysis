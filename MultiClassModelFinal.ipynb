{
 "cells": [
  {
   "cell_type": "code",
   "execution_count": 12,
   "metadata": {},
   "outputs": [],
   "source": [
    "# from itertools import *\n",
    "\n",
    "from nltk import word_tokenize          \n",
    "from nltk.stem import WordNetLemmatizer \n",
    "\n",
    "from nltk.corpus import wordnet\n",
    "\n",
    "\n",
    "\n",
    "%matplotlib inline\n",
    "sns.set_style(\"darkgrid\")\n",
    "\n",
    "\n",
    "\n",
    "from scipy.sparse import csr_matrix\n",
    "\n",
    "\n",
    "from wordcloud import WordCloud\n",
    "\n",
    "from imblearn.under_sampling import ClusterCentroids\n",
    "\n",
    "# from sklearn.grid_search import GridSearchCV\n",
    "\n",
    "from imblearn.under_sampling import NearMiss, RandomUnderSampler\n",
    "import logging\n",
    "\n",
    "\n",
    "\n",
    "import nltk\n",
    "\n",
    "\n",
    "from nltk import sent_tokenize, word_tokenize, pos_tag\n",
    "\n",
    "from sklearn.svm import SVC"
   ]
  },
  {
   "cell_type": "code",
   "execution_count": 110,
   "metadata": {},
   "outputs": [],
   "source": [
    "import numpy as np\n",
    "import pandas as pd\n",
    "import seaborn as sns\n",
    "import re\n",
    "from wordcloud import WordCloud \n",
    "import string\n",
    "import matplotlib\n",
    "import matplotlib.pyplot as plt\n",
    "from bs4 import BeautifulSoup  \n",
    "\n",
    "\n",
    "from sklearn.decomposition import PCA\n",
    "from sklearn.manifold import TSNE\n",
    "from sklearn.feature_extraction.text import CountVectorizer, TfidfVectorizer\n",
    "from sklearn.naive_bayes import BernoulliNB, MultinomialNB\n",
    "from sklearn.linear_model import LogisticRegression\n",
    "from sklearn.ensemble import RandomForestClassifier, AdaBoostClassifier\n",
    "from sklearn.metrics import confusion_matrix ,classification_report,precision_score, recall_score, make_scorer\n",
    "from sklearn.model_selection import train_test_split, GridSearchCV , RepeatedKFold, StratifiedKFold, cross_val_score\n",
    "from sklearn.feature_selection import SelectKBest, chi2\n",
    "from sklearn.preprocessing import StandardScaler\n",
    "from sklearn.neighbors import KNeighborsClassifier\n",
    "from sklearn import svm\n",
    "from sklearn import tree\n",
    "from sklearn.discriminant_analysis import LinearDiscriminantAnalysis\n",
    "from scipy.sparse import hstack\n",
    "\n",
    "\n",
    "\n"
   ]
  },
  {
   "cell_type": "code",
   "execution_count": 111,
   "metadata": {},
   "outputs": [],
   "source": [
    "df = pd.read_json('E:\\Semester5\\ML\\Project\\Electronics_5.json', orient='columns',lines=True)"
   ]
  },
  {
   "cell_type": "code",
   "execution_count": 3,
   "metadata": {},
   "outputs": [
    {
     "name": "stdout",
     "output_type": "stream",
     "text": [
      "<class 'pandas.core.frame.DataFrame'>\n",
      "RangeIndex: 1689188 entries, 0 to 1689187\n",
      "Data columns (total 9 columns):\n",
      " #   Column          Non-Null Count    Dtype \n",
      "---  ------          --------------    ----- \n",
      " 0   reviewerID      1689188 non-null  object\n",
      " 1   asin            1689188 non-null  object\n",
      " 2   reviewerName    1664458 non-null  object\n",
      " 3   helpful         1689188 non-null  object\n",
      " 4   reviewText      1689188 non-null  object\n",
      " 5   overall         1689188 non-null  int64 \n",
      " 6   summary         1689188 non-null  object\n",
      " 7   unixReviewTime  1689188 non-null  int64 \n",
      " 8   reviewTime      1689188 non-null  object\n",
      "dtypes: int64(2), object(7)\n",
      "memory usage: 116.0+ MB\n",
      "None\n"
     ]
    }
   ],
   "source": [
    "print(df.info())"
   ]
  },
  {
   "cell_type": "code",
   "execution_count": 4,
   "metadata": {},
   "outputs": [
    {
     "data": {
      "text/html": [
       "<div>\n",
       "<style scoped>\n",
       "    .dataframe tbody tr th:only-of-type {\n",
       "        vertical-align: middle;\n",
       "    }\n",
       "\n",
       "    .dataframe tbody tr th {\n",
       "        vertical-align: top;\n",
       "    }\n",
       "\n",
       "    .dataframe thead th {\n",
       "        text-align: right;\n",
       "    }\n",
       "</style>\n",
       "<table border=\"1\" class=\"dataframe\">\n",
       "  <thead>\n",
       "    <tr style=\"text-align: right;\">\n",
       "      <th></th>\n",
       "      <th>reviewerID</th>\n",
       "      <th>asin</th>\n",
       "      <th>reviewerName</th>\n",
       "      <th>helpful</th>\n",
       "      <th>reviewText</th>\n",
       "      <th>overall</th>\n",
       "      <th>summary</th>\n",
       "      <th>unixReviewTime</th>\n",
       "      <th>reviewTime</th>\n",
       "    </tr>\n",
       "  </thead>\n",
       "  <tbody>\n",
       "    <tr>\n",
       "      <th>0</th>\n",
       "      <td>AO94DHGC771SJ</td>\n",
       "      <td>0528881469</td>\n",
       "      <td>amazdnu</td>\n",
       "      <td>[0, 0]</td>\n",
       "      <td>We got this GPS for my husband who is an (OTR)...</td>\n",
       "      <td>5</td>\n",
       "      <td>Gotta have GPS!</td>\n",
       "      <td>1370131200</td>\n",
       "      <td>06 2, 2013</td>\n",
       "    </tr>\n",
       "    <tr>\n",
       "      <th>1</th>\n",
       "      <td>AMO214LNFCEI4</td>\n",
       "      <td>0528881469</td>\n",
       "      <td>Amazon Customer</td>\n",
       "      <td>[12, 15]</td>\n",
       "      <td>I'm a professional OTR truck driver, and I bou...</td>\n",
       "      <td>1</td>\n",
       "      <td>Very Disappointed</td>\n",
       "      <td>1290643200</td>\n",
       "      <td>11 25, 2010</td>\n",
       "    </tr>\n",
       "    <tr>\n",
       "      <th>2</th>\n",
       "      <td>A3N7T0DY83Y4IG</td>\n",
       "      <td>0528881469</td>\n",
       "      <td>C. A. Freeman</td>\n",
       "      <td>[43, 45]</td>\n",
       "      <td>Well, what can I say.  I've had this unit in m...</td>\n",
       "      <td>3</td>\n",
       "      <td>1st impression</td>\n",
       "      <td>1283990400</td>\n",
       "      <td>09 9, 2010</td>\n",
       "    </tr>\n",
       "    <tr>\n",
       "      <th>3</th>\n",
       "      <td>A1H8PY3QHMQQA0</td>\n",
       "      <td>0528881469</td>\n",
       "      <td>Dave M. Shaw \"mack dave\"</td>\n",
       "      <td>[9, 10]</td>\n",
       "      <td>Not going to write a long review, even thought...</td>\n",
       "      <td>2</td>\n",
       "      <td>Great grafics, POOR GPS</td>\n",
       "      <td>1290556800</td>\n",
       "      <td>11 24, 2010</td>\n",
       "    </tr>\n",
       "    <tr>\n",
       "      <th>4</th>\n",
       "      <td>A24EV6RXELQZ63</td>\n",
       "      <td>0528881469</td>\n",
       "      <td>Wayne Smith</td>\n",
       "      <td>[0, 0]</td>\n",
       "      <td>I've had mine for a year and here's what we go...</td>\n",
       "      <td>1</td>\n",
       "      <td>Major issues, only excuses for support</td>\n",
       "      <td>1317254400</td>\n",
       "      <td>09 29, 2011</td>\n",
       "    </tr>\n",
       "  </tbody>\n",
       "</table>\n",
       "</div>"
      ],
      "text/plain": [
       "       reviewerID        asin              reviewerName   helpful  \\\n",
       "0   AO94DHGC771SJ  0528881469                   amazdnu    [0, 0]   \n",
       "1   AMO214LNFCEI4  0528881469           Amazon Customer  [12, 15]   \n",
       "2  A3N7T0DY83Y4IG  0528881469             C. A. Freeman  [43, 45]   \n",
       "3  A1H8PY3QHMQQA0  0528881469  Dave M. Shaw \"mack dave\"   [9, 10]   \n",
       "4  A24EV6RXELQZ63  0528881469               Wayne Smith    [0, 0]   \n",
       "\n",
       "                                          reviewText  overall  \\\n",
       "0  We got this GPS for my husband who is an (OTR)...        5   \n",
       "1  I'm a professional OTR truck driver, and I bou...        1   \n",
       "2  Well, what can I say.  I've had this unit in m...        3   \n",
       "3  Not going to write a long review, even thought...        2   \n",
       "4  I've had mine for a year and here's what we go...        1   \n",
       "\n",
       "                                  summary  unixReviewTime   reviewTime  \n",
       "0                         Gotta have GPS!      1370131200   06 2, 2013  \n",
       "1                       Very Disappointed      1290643200  11 25, 2010  \n",
       "2                          1st impression      1283990400   09 9, 2010  \n",
       "3                 Great grafics, POOR GPS      1290556800  11 24, 2010  \n",
       "4  Major issues, only excuses for support      1317254400  09 29, 2011  "
      ]
     },
     "execution_count": 4,
     "metadata": {},
     "output_type": "execute_result"
    }
   ],
   "source": [
    "df.head()"
   ]
  },
  {
   "cell_type": "code",
   "execution_count": 5,
   "metadata": {},
   "outputs": [
    {
     "data": {
      "text/plain": [
       "reviewerID            0\n",
       "asin                  0\n",
       "reviewerName      24730\n",
       "helpful               0\n",
       "reviewText            0\n",
       "overall               0\n",
       "summary               0\n",
       "unixReviewTime        0\n",
       "reviewTime            0\n",
       "dtype: int64"
      ]
     },
     "execution_count": 5,
     "metadata": {},
     "output_type": "execute_result"
    }
   ],
   "source": [
    "df.isnull().sum()"
   ]
  },
  {
   "cell_type": "code",
   "execution_count": 6,
   "metadata": {},
   "outputs": [
    {
     "data": {
      "text/html": [
       "<div>\n",
       "<style scoped>\n",
       "    .dataframe tbody tr th:only-of-type {\n",
       "        vertical-align: middle;\n",
       "    }\n",
       "\n",
       "    .dataframe tbody tr th {\n",
       "        vertical-align: top;\n",
       "    }\n",
       "\n",
       "    .dataframe thead th {\n",
       "        text-align: right;\n",
       "    }\n",
       "</style>\n",
       "<table border=\"1\" class=\"dataframe\">\n",
       "  <thead>\n",
       "    <tr style=\"text-align: right;\">\n",
       "      <th></th>\n",
       "      <th>overall</th>\n",
       "      <th>unixReviewTime</th>\n",
       "    </tr>\n",
       "  </thead>\n",
       "  <tbody>\n",
       "    <tr>\n",
       "      <th>count</th>\n",
       "      <td>1.689188e+06</td>\n",
       "      <td>1.689188e+06</td>\n",
       "    </tr>\n",
       "    <tr>\n",
       "      <th>mean</th>\n",
       "      <td>4.222779e+00</td>\n",
       "      <td>1.340571e+09</td>\n",
       "    </tr>\n",
       "    <tr>\n",
       "      <th>std</th>\n",
       "      <td>1.185632e+00</td>\n",
       "      <td>6.342451e+07</td>\n",
       "    </tr>\n",
       "    <tr>\n",
       "      <th>min</th>\n",
       "      <td>1.000000e+00</td>\n",
       "      <td>9.292320e+08</td>\n",
       "    </tr>\n",
       "    <tr>\n",
       "      <th>25%</th>\n",
       "      <td>4.000000e+00</td>\n",
       "      <td>1.318118e+09</td>\n",
       "    </tr>\n",
       "    <tr>\n",
       "      <th>50%</th>\n",
       "      <td>5.000000e+00</td>\n",
       "      <td>1.360800e+09</td>\n",
       "    </tr>\n",
       "    <tr>\n",
       "      <th>75%</th>\n",
       "      <td>5.000000e+00</td>\n",
       "      <td>1.385078e+09</td>\n",
       "    </tr>\n",
       "    <tr>\n",
       "      <th>max</th>\n",
       "      <td>5.000000e+00</td>\n",
       "      <td>1.406074e+09</td>\n",
       "    </tr>\n",
       "  </tbody>\n",
       "</table>\n",
       "</div>"
      ],
      "text/plain": [
       "            overall  unixReviewTime\n",
       "count  1.689188e+06    1.689188e+06\n",
       "mean   4.222779e+00    1.340571e+09\n",
       "std    1.185632e+00    6.342451e+07\n",
       "min    1.000000e+00    9.292320e+08\n",
       "25%    4.000000e+00    1.318118e+09\n",
       "50%    5.000000e+00    1.360800e+09\n",
       "75%    5.000000e+00    1.385078e+09\n",
       "max    5.000000e+00    1.406074e+09"
      ]
     },
     "execution_count": 6,
     "metadata": {},
     "output_type": "execute_result"
    }
   ],
   "source": [
    "df.describe()"
   ]
  },
  {
   "cell_type": "code",
   "execution_count": 8,
   "metadata": {},
   "outputs": [
    {
     "name": "stderr",
     "output_type": "stream",
     "text": [
      "C:\\Users\\Abdul Rehman\\AppData\\Local\\Temp\\ipykernel_44396\\2436264669.py:4: FutureWarning: \n",
      "\n",
      "Passing `palette` without assigning `hue` is deprecated and will be removed in v0.14.0. Assign the `x` variable to `hue` and set `legend=False` for the same effect.\n",
      "\n",
      "  sns.countplot(data=df, x='overall', palette='viridis')\n"
     ]
    },
    {
     "data": {
      "image/png": "[encoded data removed]",
      "text/plain": [
       "<Figure size 640x480 with 1 Axes>"
      ]
     },
     "metadata": {},
     "output_type": "display_data"
    }
   ],
   "source": [
    "sns.countplot(data=df, x='overall', palette='viridis')\n",
    "plt.title('Distribution of Ratings')\n",
    "plt.xlabel('Rating')\n",
    "plt.ylabel('Count')\n",
    "plt.show()\n"
   ]
  },
  {
   "cell_type": "code",
   "execution_count": 12,
   "metadata": {},
   "outputs": [
    {
     "data": {
      "image/png": "[encoded data removed]",
      "text/plain": [
       "<Figure size 640x480 with 1 Axes>"
      ]
     },
     "metadata": {},
     "output_type": "display_data"
    }
   ],
   "source": [
    "# Extract the 'helpful' votes\n",
    "df['helpful_votes'] = df['helpful'].apply(lambda x: x[0] if isinstance(x, list) else 0)\n",
    "\n",
    "# Add 1 to avoid log(0)\n",
    "df['log_helpful_votes'] = np.log1p(df['helpful_votes'])\n",
    "\n",
    "sns.histplot(df['log_helpful_votes'], bins=50, kde=True, color='blue')\n",
    "plt.title('Log-Transformed Distribution of Helpful Votes')\n",
    "plt.xlabel('Log(Helpful Votes)')\n",
    "plt.ylabel('Frequency')\n",
    "plt.show()"
   ]
  },
  {
   "cell_type": "code",
   "execution_count": 13,
   "metadata": {},
   "outputs": [
    {
     "data": {
      "image/png": "[encoded data removed]",
      "text/plain": [
       "<Figure size 640x480 with 1 Axes>"
      ]
     },
     "metadata": {},
     "output_type": "display_data"
    }
   ],
   "source": [
    "# Cap values at the 99th percentile\n",
    "threshold = np.percentile(df['helpful_votes'], 99)\n",
    "filtered_votes = df[df['helpful_votes'] <= threshold]\n",
    "\n",
    "sns.histplot(filtered_votes['helpful_votes'], bins=50, kde=True, color='green')\n",
    "plt.title('Distribution of Helpful Votes (Below 99th Percentile)')\n",
    "plt.xlabel('Helpful Votes')\n",
    "plt.ylabel('Frequency')\n",
    "plt.show()\n"
   ]
  },
  {
   "cell_type": "markdown",
   "metadata": {},
   "source": [
    "Review Length"
   ]
  },
  {
   "cell_type": "code",
   "execution_count": 14,
   "metadata": {},
   "outputs": [
    {
     "data": {
      "image/png": "[encoded data removed]",
      "text/plain": [
       "<Figure size 640x480 with 1 Axes>"
      ]
     },
     "metadata": {},
     "output_type": "display_data"
    }
   ],
   "source": [
    "import numpy as np\n",
    "\n",
    "# Apply log transformation to review lengths (add 1 to avoid log(0))\n",
    "df['log_review_length'] = np.log1p(df['review_length'])\n",
    "\n",
    "# Plot log-transformed review lengths\n",
    "sns.histplot(df['log_review_length'], bins=30, kde=True, color='purple')\n",
    "plt.title('Log-Transformed Review Length Distribution')\n",
    "plt.xlabel('Log(Number of Words)')\n",
    "plt.ylabel('Frequency')\n",
    "plt.show()\n"
   ]
  },
  {
   "cell_type": "code",
   "execution_count": 15,
   "metadata": {},
   "outputs": [
    {
     "data": {
      "image/png": "[encoded data removed]",
      "text/plain": [
       "<Figure size 640x480 with 1 Axes>"
      ]
     },
     "metadata": {},
     "output_type": "display_data"
    }
   ],
   "source": [
    "# Cap review lengths at the 99th percentile\n",
    "threshold = np.percentile(df['review_length'], 99)\n",
    "filtered_reviews = df[df['review_length'] <= threshold]\n",
    "\n",
    "# Plot filtered review lengths\n",
    "sns.histplot(filtered_reviews['review_length'], bins=30, kde=True, color='green')\n",
    "plt.title('Review Length Distribution (Below 99th Percentile)')\n",
    "plt.xlabel('Number of Words')\n",
    "plt.ylabel('Frequency')\n",
    "plt.show()\n"
   ]
  },
  {
   "cell_type": "code",
   "execution_count": 16,
   "metadata": {},
   "outputs": [
    {
     "name": "stderr",
     "output_type": "stream",
     "text": [
      "C:\\Users\\Abdul Rehman\\AppData\\Local\\Temp\\ipykernel_44396\\95111555.py:13: FutureWarning: \n",
      "\n",
      "Passing `palette` without assigning `hue` is deprecated and will be removed in v0.14.0. Assign the `x` variable to `hue` and set `legend=False` for the same effect.\n",
      "\n",
      "  sns.countplot(data=df, x='review_length_category', palette='coolwarm', order=['Short', 'Medium', 'Long'])\n"
     ]
    },
    {
     "data": {
      "image/png": "[encoded data removed]",
      "text/plain": [
       "<Figure size 640x480 with 1 Axes>"
      ]
     },
     "metadata": {},
     "output_type": "display_data"
    }
   ],
   "source": [
    "# Categorize reviews based on length\n",
    "def categorize_review_length(length):\n",
    "    if length <= 50:\n",
    "        return 'Short'\n",
    "    elif length <= 200:\n",
    "        return 'Medium'\n",
    "    else:\n",
    "        return 'Long'\n",
    "\n",
    "df['review_length_category'] = df['review_length'].apply(categorize_review_length)\n",
    "\n",
    "# Plot review length categories\n",
    "sns.countplot(data=df, x='review_length_category', palette='coolwarm', order=['Short', 'Medium', 'Long'])\n",
    "plt.title('Review Length Categories')\n",
    "plt.xlabel('Category')\n",
    "plt.ylabel('Count')\n",
    "plt.show()\n"
   ]
  },
  {
   "cell_type": "markdown",
   "metadata": {},
   "source": [
    "Reviews over time"
   ]
  },
  {
   "cell_type": "code",
   "execution_count": 17,
   "metadata": {},
   "outputs": [
    {
     "name": "stderr",
     "output_type": "stream",
     "text": [
      "C:\\Users\\Abdul Rehman\\AppData\\Local\\Temp\\ipykernel_44396\\1766220522.py:4: FutureWarning: 'M' is deprecated and will be removed in a future version, please use 'ME' instead.\n",
      "  df.set_index('reviewTime')['overall'].resample('M').count().plot(title='Number of Reviews Over Time', figsize=(12, 6))\n"
     ]
    },
    {
     "data": {
      "image/png": "[encoded data removed]",
      "text/plain": [
       "<Figure size 1200x600 with 1 Axes>"
      ]
     },
     "metadata": {},
     "output_type": "display_data"
    }
   ],
   "source": [
    "df['reviewTime'] = pd.to_datetime(df['reviewTime'])\n",
    "\n",
    "# Reviews over time\n",
    "df.set_index('reviewTime')['overall'].resample('M').count().plot(title='Number of Reviews Over Time', figsize=(12, 6))\n",
    "plt.ylabel('Number of Reviews')\n",
    "plt.show()\n"
   ]
  },
  {
   "cell_type": "markdown",
   "metadata": {},
   "source": [
    "New Column\n"
   ]
  },
  {
   "cell_type": "code",
   "execution_count": 112,
   "metadata": {},
   "outputs": [
    {
     "name": "stdout",
     "output_type": "stream",
     "text": [
      "    helpful  helpful_ratio\n",
      "0    [0, 0]       0.000000\n",
      "1  [12, 15]       0.800000\n",
      "2  [43, 45]       0.955556\n",
      "3   [9, 10]       0.900000\n",
      "4    [0, 0]       0.000000\n"
     ]
    }
   ],
   "source": [
    "# Calculate helpful ratio\n",
    "df['helpful_ratio'] = df['helpful'].apply(\n",
    "    lambda x: x[0] / x[1] if isinstance(x, list) and x[1] > 0 else 0\n",
    ")\n",
    "\n",
    "# Display a few rows to verify\n",
    "print(df[['helpful', 'helpful_ratio']].head())\n"
   ]
  },
  {
   "cell_type": "code",
   "execution_count": 113,
   "metadata": {},
   "outputs": [
    {
     "data": {
      "text/html": [
       "<div>\n",
       "<style scoped>\n",
       "    .dataframe tbody tr th:only-of-type {\n",
       "        vertical-align: middle;\n",
       "    }\n",
       "\n",
       "    .dataframe tbody tr th {\n",
       "        vertical-align: top;\n",
       "    }\n",
       "\n",
       "    .dataframe thead th {\n",
       "        text-align: right;\n",
       "    }\n",
       "</style>\n",
       "<table border=\"1\" class=\"dataframe\">\n",
       "  <thead>\n",
       "    <tr style=\"text-align: right;\">\n",
       "      <th></th>\n",
       "      <th>reviewerID</th>\n",
       "      <th>asin</th>\n",
       "      <th>reviewerName</th>\n",
       "      <th>helpful</th>\n",
       "      <th>reviewText</th>\n",
       "      <th>overall</th>\n",
       "      <th>summary</th>\n",
       "      <th>unixReviewTime</th>\n",
       "      <th>reviewTime</th>\n",
       "      <th>helpful_ratio</th>\n",
       "    </tr>\n",
       "  </thead>\n",
       "  <tbody>\n",
       "    <tr>\n",
       "      <th>0</th>\n",
       "      <td>AO94DHGC771SJ</td>\n",
       "      <td>0528881469</td>\n",
       "      <td>amazdnu</td>\n",
       "      <td>[0, 0]</td>\n",
       "      <td>We got this GPS for my husband who is an (OTR)...</td>\n",
       "      <td>5</td>\n",
       "      <td>Gotta have GPS!</td>\n",
       "      <td>1370131200</td>\n",
       "      <td>06 2, 2013</td>\n",
       "      <td>0.000000</td>\n",
       "    </tr>\n",
       "    <tr>\n",
       "      <th>1</th>\n",
       "      <td>AMO214LNFCEI4</td>\n",
       "      <td>0528881469</td>\n",
       "      <td>Amazon Customer</td>\n",
       "      <td>[12, 15]</td>\n",
       "      <td>I'm a professional OTR truck driver, and I bou...</td>\n",
       "      <td>1</td>\n",
       "      <td>Very Disappointed</td>\n",
       "      <td>1290643200</td>\n",
       "      <td>11 25, 2010</td>\n",
       "      <td>0.800000</td>\n",
       "    </tr>\n",
       "    <tr>\n",
       "      <th>2</th>\n",
       "      <td>A3N7T0DY83Y4IG</td>\n",
       "      <td>0528881469</td>\n",
       "      <td>C. A. Freeman</td>\n",
       "      <td>[43, 45]</td>\n",
       "      <td>Well, what can I say.  I've had this unit in m...</td>\n",
       "      <td>3</td>\n",
       "      <td>1st impression</td>\n",
       "      <td>1283990400</td>\n",
       "      <td>09 9, 2010</td>\n",
       "      <td>0.955556</td>\n",
       "    </tr>\n",
       "    <tr>\n",
       "      <th>3</th>\n",
       "      <td>A1H8PY3QHMQQA0</td>\n",
       "      <td>0528881469</td>\n",
       "      <td>Dave M. Shaw \"mack dave\"</td>\n",
       "      <td>[9, 10]</td>\n",
       "      <td>Not going to write a long review, even thought...</td>\n",
       "      <td>2</td>\n",
       "      <td>Great grafics, POOR GPS</td>\n",
       "      <td>1290556800</td>\n",
       "      <td>11 24, 2010</td>\n",
       "      <td>0.900000</td>\n",
       "    </tr>\n",
       "    <tr>\n",
       "      <th>4</th>\n",
       "      <td>A24EV6RXELQZ63</td>\n",
       "      <td>0528881469</td>\n",
       "      <td>Wayne Smith</td>\n",
       "      <td>[0, 0]</td>\n",
       "      <td>I've had mine for a year and here's what we go...</td>\n",
       "      <td>1</td>\n",
       "      <td>Major issues, only excuses for support</td>\n",
       "      <td>1317254400</td>\n",
       "      <td>09 29, 2011</td>\n",
       "      <td>0.000000</td>\n",
       "    </tr>\n",
       "  </tbody>\n",
       "</table>\n",
       "</div>"
      ],
      "text/plain": [
       "       reviewerID        asin              reviewerName   helpful  \\\n",
       "0   AO94DHGC771SJ  0528881469                   amazdnu    [0, 0]   \n",
       "1   AMO214LNFCEI4  0528881469           Amazon Customer  [12, 15]   \n",
       "2  A3N7T0DY83Y4IG  0528881469             C. A. Freeman  [43, 45]   \n",
       "3  A1H8PY3QHMQQA0  0528881469  Dave M. Shaw \"mack dave\"   [9, 10]   \n",
       "4  A24EV6RXELQZ63  0528881469               Wayne Smith    [0, 0]   \n",
       "\n",
       "                                          reviewText  overall  \\\n",
       "0  We got this GPS for my husband who is an (OTR)...        5   \n",
       "1  I'm a professional OTR truck driver, and I bou...        1   \n",
       "2  Well, what can I say.  I've had this unit in m...        3   \n",
       "3  Not going to write a long review, even thought...        2   \n",
       "4  I've had mine for a year and here's what we go...        1   \n",
       "\n",
       "                                  summary  unixReviewTime   reviewTime  \\\n",
       "0                         Gotta have GPS!      1370131200   06 2, 2013   \n",
       "1                       Very Disappointed      1290643200  11 25, 2010   \n",
       "2                          1st impression      1283990400   09 9, 2010   \n",
       "3                 Great grafics, POOR GPS      1290556800  11 24, 2010   \n",
       "4  Major issues, only excuses for support      1317254400  09 29, 2011   \n",
       "\n",
       "   helpful_ratio  \n",
       "0       0.000000  \n",
       "1       0.800000  \n",
       "2       0.955556  \n",
       "3       0.900000  \n",
       "4       0.000000  "
      ]
     },
     "execution_count": 113,
     "metadata": {},
     "output_type": "execute_result"
    }
   ],
   "source": [
    "df.head()"
   ]
  },
  {
   "cell_type": "code",
   "execution_count": 114,
   "metadata": {},
   "outputs": [],
   "source": [
    "df = df.drop(columns=['unixReviewTime', 'helpful', 'reviewerName' , 'asin', 'reviewerID'])"
   ]
  },
  {
   "cell_type": "code",
   "execution_count": 115,
   "metadata": {},
   "outputs": [],
   "source": [
    "# Create a new column 'reviewLength' with the length of each review\n",
    "df['reviewLength'] = df['reviewText'].apply(len)"
   ]
  },
  {
   "cell_type": "code",
   "execution_count": 116,
   "metadata": {},
   "outputs": [
    {
     "data": {
      "text/html": [
       "<div>\n",
       "<style scoped>\n",
       "    .dataframe tbody tr th:only-of-type {\n",
       "        vertical-align: middle;\n",
       "    }\n",
       "\n",
       "    .dataframe tbody tr th {\n",
       "        vertical-align: top;\n",
       "    }\n",
       "\n",
       "    .dataframe thead th {\n",
       "        text-align: right;\n",
       "    }\n",
       "</style>\n",
       "<table border=\"1\" class=\"dataframe\">\n",
       "  <thead>\n",
       "    <tr style=\"text-align: right;\">\n",
       "      <th></th>\n",
       "      <th>reviewText</th>\n",
       "      <th>overall</th>\n",
       "      <th>summary</th>\n",
       "      <th>reviewTime</th>\n",
       "      <th>helpful_ratio</th>\n",
       "      <th>reviewLength</th>\n",
       "    </tr>\n",
       "  </thead>\n",
       "  <tbody>\n",
       "    <tr>\n",
       "      <th>0</th>\n",
       "      <td>We got this GPS for my husband who is an (OTR)...</td>\n",
       "      <td>5</td>\n",
       "      <td>Gotta have GPS!</td>\n",
       "      <td>06 2, 2013</td>\n",
       "      <td>0.000000</td>\n",
       "      <td>805</td>\n",
       "    </tr>\n",
       "    <tr>\n",
       "      <th>1</th>\n",
       "      <td>I'm a professional OTR truck driver, and I bou...</td>\n",
       "      <td>1</td>\n",
       "      <td>Very Disappointed</td>\n",
       "      <td>11 25, 2010</td>\n",
       "      <td>0.800000</td>\n",
       "      <td>2175</td>\n",
       "    </tr>\n",
       "    <tr>\n",
       "      <th>2</th>\n",
       "      <td>Well, what can I say.  I've had this unit in m...</td>\n",
       "      <td>3</td>\n",
       "      <td>1st impression</td>\n",
       "      <td>09 9, 2010</td>\n",
       "      <td>0.955556</td>\n",
       "      <td>4607</td>\n",
       "    </tr>\n",
       "    <tr>\n",
       "      <th>3</th>\n",
       "      <td>Not going to write a long review, even thought...</td>\n",
       "      <td>2</td>\n",
       "      <td>Great grafics, POOR GPS</td>\n",
       "      <td>11 24, 2010</td>\n",
       "      <td>0.900000</td>\n",
       "      <td>2246</td>\n",
       "    </tr>\n",
       "    <tr>\n",
       "      <th>4</th>\n",
       "      <td>I've had mine for a year and here's what we go...</td>\n",
       "      <td>1</td>\n",
       "      <td>Major issues, only excuses for support</td>\n",
       "      <td>09 29, 2011</td>\n",
       "      <td>0.000000</td>\n",
       "      <td>1076</td>\n",
       "    </tr>\n",
       "  </tbody>\n",
       "</table>\n",
       "</div>"
      ],
      "text/plain": [
       "                                          reviewText  overall  \\\n",
       "0  We got this GPS for my husband who is an (OTR)...        5   \n",
       "1  I'm a professional OTR truck driver, and I bou...        1   \n",
       "2  Well, what can I say.  I've had this unit in m...        3   \n",
       "3  Not going to write a long review, even thought...        2   \n",
       "4  I've had mine for a year and here's what we go...        1   \n",
       "\n",
       "                                  summary   reviewTime  helpful_ratio  \\\n",
       "0                         Gotta have GPS!   06 2, 2013       0.000000   \n",
       "1                       Very Disappointed  11 25, 2010       0.800000   \n",
       "2                          1st impression   09 9, 2010       0.955556   \n",
       "3                 Great grafics, POOR GPS  11 24, 2010       0.900000   \n",
       "4  Major issues, only excuses for support  09 29, 2011       0.000000   \n",
       "\n",
       "   reviewLength  \n",
       "0           805  \n",
       "1          2175  \n",
       "2          4607  \n",
       "3          2246  \n",
       "4          1076  "
      ]
     },
     "execution_count": 116,
     "metadata": {},
     "output_type": "execute_result"
    }
   ],
   "source": [
    "df.head()"
   ]
  },
  {
   "cell_type": "code",
   "execution_count": 14,
   "metadata": {},
   "outputs": [
    {
     "data": {
      "image/png": "[encoded data removed]",
      "text/plain": [
       "<Figure size 640x480 with 2 Axes>"
      ]
     },
     "metadata": {},
     "output_type": "display_data"
    }
   ],
   "source": [
    "corr = df.corr(numeric_only=True)\n",
    "sns.heatmap(corr, annot=True, cmap='coolwarm')\n",
    "plt.title('Correlation Matrix')\n",
    "plt.show()\n"
   ]
  },
  {
   "cell_type": "code",
   "execution_count": null,
   "metadata": {},
   "outputs": [],
   "source": []
  },
  {
   "cell_type": "markdown",
   "metadata": {},
   "source": [
    "Data Selection"
   ]
  },
  {
   "cell_type": "code",
   "execution_count": 117,
   "metadata": {},
   "outputs": [
    {
     "name": "stderr",
     "output_type": "stream",
     "text": [
      "C:\\Users\\Abdul Rehman\\AppData\\Local\\Temp\\ipykernel_63904\\3183249416.py:18: SettingWithCopyWarning: \n",
      "A value is trying to be set on a copy of a slice from a DataFrame.\n",
      "Try using .loc[row_indexer,col_indexer] = value instead\n",
      "\n",
      "See the caveats in the documentation: https://pandas.pydata.org/pandas-docs/stable/user_guide/indexing.html#returning-a-view-versus-a-copy\n",
      "  sentiment_df['helpfulness_score'] = sentiment_df['helpful_ratio'].apply(compute_helpfulness_score)\n",
      "C:\\Users\\Abdul Rehman\\AppData\\Local\\Temp\\ipykernel_63904\\3183249416.py:19: SettingWithCopyWarning: \n",
      "A value is trying to be set on a copy of a slice from a DataFrame.\n",
      "Try using .loc[row_indexer,col_indexer] = value instead\n",
      "\n",
      "See the caveats in the documentation: https://pandas.pydata.org/pandas-docs/stable/user_guide/indexing.html#returning-a-view-versus-a-copy\n",
      "  sentiment_df['summary_length'] = sentiment_df['summary'].apply(compute_text_quality)\n",
      "C:\\Users\\Abdul Rehman\\AppData\\Local\\Temp\\ipykernel_63904\\3183249416.py:20: SettingWithCopyWarning: \n",
      "A value is trying to be set on a copy of a slice from a DataFrame.\n",
      "Try using .loc[row_indexer,col_indexer] = value instead\n",
      "\n",
      "See the caveats in the documentation: https://pandas.pydata.org/pandas-docs/stable/user_guide/indexing.html#returning-a-view-versus-a-copy\n",
      "  sentiment_df['review_length'] = sentiment_df['reviewText'].apply(compute_text_quality)\n",
      "C:\\Users\\Abdul Rehman\\AppData\\Local\\Temp\\ipykernel_63904\\3183249416.py:23: SettingWithCopyWarning: \n",
      "A value is trying to be set on a copy of a slice from a DataFrame.\n",
      "Try using .loc[row_indexer,col_indexer] = value instead\n",
      "\n",
      "See the caveats in the documentation: https://pandas.pydata.org/pandas-docs/stable/user_guide/indexing.html#returning-a-view-versus-a-copy\n",
      "  sentiment_df['combined_score'] = (\n",
      "C:\\Users\\Abdul Rehman\\AppData\\Local\\Temp\\ipykernel_63904\\3183249416.py:18: SettingWithCopyWarning: \n",
      "A value is trying to be set on a copy of a slice from a DataFrame.\n",
      "Try using .loc[row_indexer,col_indexer] = value instead\n",
      "\n",
      "See the caveats in the documentation: https://pandas.pydata.org/pandas-docs/stable/user_guide/indexing.html#returning-a-view-versus-a-copy\n",
      "  sentiment_df['helpfulness_score'] = sentiment_df['helpful_ratio'].apply(compute_helpfulness_score)\n",
      "C:\\Users\\Abdul Rehman\\AppData\\Local\\Temp\\ipykernel_63904\\3183249416.py:19: SettingWithCopyWarning: \n",
      "A value is trying to be set on a copy of a slice from a DataFrame.\n",
      "Try using .loc[row_indexer,col_indexer] = value instead\n",
      "\n",
      "See the caveats in the documentation: https://pandas.pydata.org/pandas-docs/stable/user_guide/indexing.html#returning-a-view-versus-a-copy\n",
      "  sentiment_df['summary_length'] = sentiment_df['summary'].apply(compute_text_quality)\n",
      "C:\\Users\\Abdul Rehman\\AppData\\Local\\Temp\\ipykernel_63904\\3183249416.py:20: SettingWithCopyWarning: \n",
      "A value is trying to be set on a copy of a slice from a DataFrame.\n",
      "Try using .loc[row_indexer,col_indexer] = value instead\n",
      "\n",
      "See the caveats in the documentation: https://pandas.pydata.org/pandas-docs/stable/user_guide/indexing.html#returning-a-view-versus-a-copy\n",
      "  sentiment_df['review_length'] = sentiment_df['reviewText'].apply(compute_text_quality)\n",
      "C:\\Users\\Abdul Rehman\\AppData\\Local\\Temp\\ipykernel_63904\\3183249416.py:23: SettingWithCopyWarning: \n",
      "A value is trying to be set on a copy of a slice from a DataFrame.\n",
      "Try using .loc[row_indexer,col_indexer] = value instead\n",
      "\n",
      "See the caveats in the documentation: https://pandas.pydata.org/pandas-docs/stable/user_guide/indexing.html#returning-a-view-versus-a-copy\n",
      "  sentiment_df['combined_score'] = (\n",
      "C:\\Users\\Abdul Rehman\\AppData\\Local\\Temp\\ipykernel_63904\\3183249416.py:18: SettingWithCopyWarning: \n",
      "A value is trying to be set on a copy of a slice from a DataFrame.\n",
      "Try using .loc[row_indexer,col_indexer] = value instead\n",
      "\n",
      "See the caveats in the documentation: https://pandas.pydata.org/pandas-docs/stable/user_guide/indexing.html#returning-a-view-versus-a-copy\n",
      "  sentiment_df['helpfulness_score'] = sentiment_df['helpful_ratio'].apply(compute_helpfulness_score)\n",
      "C:\\Users\\Abdul Rehman\\AppData\\Local\\Temp\\ipykernel_63904\\3183249416.py:19: SettingWithCopyWarning: \n",
      "A value is trying to be set on a copy of a slice from a DataFrame.\n",
      "Try using .loc[row_indexer,col_indexer] = value instead\n",
      "\n",
      "See the caveats in the documentation: https://pandas.pydata.org/pandas-docs/stable/user_guide/indexing.html#returning-a-view-versus-a-copy\n",
      "  sentiment_df['summary_length'] = sentiment_df['summary'].apply(compute_text_quality)\n",
      "C:\\Users\\Abdul Rehman\\AppData\\Local\\Temp\\ipykernel_63904\\3183249416.py:20: SettingWithCopyWarning: \n",
      "A value is trying to be set on a copy of a slice from a DataFrame.\n",
      "Try using .loc[row_indexer,col_indexer] = value instead\n",
      "\n",
      "See the caveats in the documentation: https://pandas.pydata.org/pandas-docs/stable/user_guide/indexing.html#returning-a-view-versus-a-copy\n",
      "  sentiment_df['review_length'] = sentiment_df['reviewText'].apply(compute_text_quality)\n",
      "C:\\Users\\Abdul Rehman\\AppData\\Local\\Temp\\ipykernel_63904\\3183249416.py:23: SettingWithCopyWarning: \n",
      "A value is trying to be set on a copy of a slice from a DataFrame.\n",
      "Try using .loc[row_indexer,col_indexer] = value instead\n",
      "\n",
      "See the caveats in the documentation: https://pandas.pydata.org/pandas-docs/stable/user_guide/indexing.html#returning-a-view-versus-a-copy\n",
      "  sentiment_df['combined_score'] = (\n"
     ]
    },
    {
     "data": {
      "text/html": [
       "<div>\n",
       "<style scoped>\n",
       "    .dataframe tbody tr th:only-of-type {\n",
       "        vertical-align: middle;\n",
       "    }\n",
       "\n",
       "    .dataframe tbody tr th {\n",
       "        vertical-align: top;\n",
       "    }\n",
       "\n",
       "    .dataframe thead th {\n",
       "        text-align: right;\n",
       "    }\n",
       "</style>\n",
       "<table border=\"1\" class=\"dataframe\">\n",
       "  <thead>\n",
       "    <tr style=\"text-align: right;\">\n",
       "      <th></th>\n",
       "      <th>reviewText</th>\n",
       "      <th>overall</th>\n",
       "      <th>summary</th>\n",
       "      <th>reviewTime</th>\n",
       "      <th>helpful_ratio</th>\n",
       "      <th>reviewLength</th>\n",
       "      <th>Sentiment</th>\n",
       "      <th>helpfulness_score</th>\n",
       "      <th>summary_length</th>\n",
       "      <th>review_length</th>\n",
       "      <th>combined_score</th>\n",
       "    </tr>\n",
       "  </thead>\n",
       "  <tbody>\n",
       "    <tr>\n",
       "      <th>1040782</th>\n",
       "      <td>UPDATE: I changed my review from 3 stars to 1 ...</td>\n",
       "      <td>1</td>\n",
       "      <td>Beware: You can't buy more glasses...  But it ...</td>\n",
       "      <td>10 5, 2011</td>\n",
       "      <td>0.869565</td>\n",
       "      <td>29948</td>\n",
       "      <td>0</td>\n",
       "      <td>0.869565</td>\n",
       "      <td>65</td>\n",
       "      <td>29948</td>\n",
       "      <td>3003.03913</td>\n",
       "    </tr>\n",
       "    <tr>\n",
       "      <th>398618</th>\n",
       "      <td>I was asked to review the Sony XDR-F1HD by Jef...</td>\n",
       "      <td>2</td>\n",
       "      <td>iBiquity/IBOC HD (Hybrid digital) radio system...</td>\n",
       "      <td>03 29, 2009</td>\n",
       "      <td>0.773585</td>\n",
       "      <td>24091</td>\n",
       "      <td>0</td>\n",
       "      <td>0.773585</td>\n",
       "      <td>117</td>\n",
       "      <td>24091</td>\n",
       "      <td>2422.34717</td>\n",
       "    </tr>\n",
       "    <tr>\n",
       "      <th>742715</th>\n",
       "      <td>*Update 5*Since receiving the refurbished GO 7...</td>\n",
       "      <td>1</td>\n",
       "      <td>Go with another brand. Garmin and Magellan Cus...</td>\n",
       "      <td>08 28, 2010</td>\n",
       "      <td>1.000000</td>\n",
       "      <td>22028</td>\n",
       "      <td>0</td>\n",
       "      <td>1.000000</td>\n",
       "      <td>115</td>\n",
       "      <td>22028</td>\n",
       "      <td>2216.30000</td>\n",
       "    </tr>\n",
       "    <tr>\n",
       "      <th>1555104</th>\n",
       "      <td>Edit- 5/15These TVs have an amazing picture. N...</td>\n",
       "      <td>1</td>\n",
       "      <td>Buyer Beware! This model HAS ITS ISSUES! MAKE ...</td>\n",
       "      <td>03 20, 2013</td>\n",
       "      <td>0.430435</td>\n",
       "      <td>20411</td>\n",
       "      <td>0</td>\n",
       "      <td>0.430435</td>\n",
       "      <td>86</td>\n",
       "      <td>20411</td>\n",
       "      <td>2050.56087</td>\n",
       "    </tr>\n",
       "    <tr>\n",
       "      <th>1686981</th>\n",
       "      <td>PROSLess expensive than Microsoft OfficeCan op...</td>\n",
       "      <td>2</td>\n",
       "      <td>Past Perfect--aging interface and lesser capab...</td>\n",
       "      <td>06 23, 2014</td>\n",
       "      <td>1.000000</td>\n",
       "      <td>20114</td>\n",
       "      <td>0</td>\n",
       "      <td>1.000000</td>\n",
       "      <td>114</td>\n",
       "      <td>20114</td>\n",
       "      <td>2024.80000</td>\n",
       "    </tr>\n",
       "  </tbody>\n",
       "</table>\n",
       "</div>"
      ],
      "text/plain": [
       "                                                reviewText  overall  \\\n",
       "1040782  UPDATE: I changed my review from 3 stars to 1 ...        1   \n",
       "398618   I was asked to review the Sony XDR-F1HD by Jef...        2   \n",
       "742715   *Update 5*Since receiving the refurbished GO 7...        1   \n",
       "1555104  Edit- 5/15These TVs have an amazing picture. N...        1   \n",
       "1686981  PROSLess expensive than Microsoft OfficeCan op...        2   \n",
       "\n",
       "                                                   summary   reviewTime  \\\n",
       "1040782  Beware: You can't buy more glasses...  But it ...   10 5, 2011   \n",
       "398618   iBiquity/IBOC HD (Hybrid digital) radio system...  03 29, 2009   \n",
       "742715   Go with another brand. Garmin and Magellan Cus...  08 28, 2010   \n",
       "1555104  Buyer Beware! This model HAS ITS ISSUES! MAKE ...  03 20, 2013   \n",
       "1686981  Past Perfect--aging interface and lesser capab...  06 23, 2014   \n",
       "\n",
       "         helpful_ratio  reviewLength  Sentiment  helpfulness_score  \\\n",
       "1040782       0.869565         29948          0           0.869565   \n",
       "398618        0.773585         24091          0           0.773585   \n",
       "742715        1.000000         22028          0           1.000000   \n",
       "1555104       0.430435         20411          0           0.430435   \n",
       "1686981       1.000000         20114          0           1.000000   \n",
       "\n",
       "         summary_length  review_length  combined_score  \n",
       "1040782              65          29948      3003.03913  \n",
       "398618              117          24091      2422.34717  \n",
       "742715              115          22028      2216.30000  \n",
       "1555104              86          20411      2050.56087  \n",
       "1686981             114          20114      2024.80000  "
      ]
     },
     "execution_count": 117,
     "metadata": {},
     "output_type": "execute_result"
    }
   ],
   "source": [
    "\n",
    "\n",
    "# Define a function to compute a helpfulness score\n",
    "def compute_helpfulness_score(helpful_ratio):\n",
    "    if isinstance(helpful_ratio, (int, float)) and helpful_ratio >= 0:\n",
    "        return helpful_ratio  # helpful_ratio is already a proportion, so we use it directly\n",
    "    return 0  # Default score if helpful_ratio is invalid\n",
    "\n",
    "# Define a function to compute a text quality score\n",
    "def compute_text_quality(text):\n",
    "    if isinstance(text, str):\n",
    "        return len(text)  # Length of text as a proxy for quality\n",
    "    return 0\n",
    "\n",
    "# Define a function to select the top N reviews based on combined scores\n",
    "def select_top_reviews(df, sentiment, n=20000):\n",
    "    sentiment_df = df[df['Sentiment'] == sentiment]\n",
    "    \n",
    "    # Compute scores\n",
    "    sentiment_df['helpfulness_score'] = sentiment_df['helpful_ratio'].apply(compute_helpfulness_score)\n",
    "    sentiment_df['summary_length'] = sentiment_df['summary'].apply(compute_text_quality)\n",
    "    sentiment_df['review_length'] = sentiment_df['reviewText'].apply(compute_text_quality)\n",
    "    \n",
    "    # Create a combined score (adjust weights as needed)\n",
    "    sentiment_df['combined_score'] = (\n",
    "        2 * sentiment_df['helpfulness_score'] + \n",
    "        0.1 * sentiment_df['summary_length'] + \n",
    "        0.1 * sentiment_df['review_length']\n",
    "    )\n",
    "    \n",
    "    # Sort by the combined score and select the top N\n",
    "    sentiment_df = sentiment_df.sort_values(by='combined_score', ascending=False).head(n)\n",
    "    \n",
    "    return sentiment_df\n",
    "\n",
    "# Categorize reviews into Negative, Neutral, and Positive\n",
    "df['Sentiment'] = df['overall'].apply(lambda x: 1 if x > 3 else (0 if x < 3 else 2))\n",
    "\n",
    "# Select the top 20,000 reviews for each sentiment\n",
    "dfnegative = select_top_reviews(df, sentiment=0, n=20000)  # Negative sentiment\n",
    "dfneutral = select_top_reviews(df, sentiment=2, n=20000)   # Neutral sentiment\n",
    "dfpositive = select_top_reviews(df, sentiment=1, n=20000)  # Positive sentiment\n",
    "\n",
    "# Combine datasets\n",
    "df = pd.concat([dfnegative,dfneutral,  dfpositive])\n",
    "\n",
    "df.head()\n"
   ]
  },
  {
   "cell_type": "code",
   "execution_count": 118,
   "metadata": {},
   "outputs": [
    {
     "name": "stderr",
     "output_type": "stream",
     "text": [
      "C:\\Users\\Abdul Rehman\\AppData\\Local\\Temp\\ipykernel_63904\\471077069.py:1: FutureWarning: \n",
      "\n",
      "Passing `palette` without assigning `hue` is deprecated and will be removed in v0.14.0. Assign the `x` variable to `hue` and set `legend=False` for the same effect.\n",
      "\n",
      "  sns.countplot(data=df, x='overall', palette='viridis')\n"
     ]
    },
    {
     "data": {
      "image/png": "[encoded data removed]",
      "text/plain": [
       "<Figure size 640x480 with 1 Axes>"
      ]
     },
     "metadata": {},
     "output_type": "display_data"
    }
   ],
   "source": [
    "sns.countplot(data=df, x='overall', palette='viridis')\n",
    "plt.title('Distribution of Ratings')\n",
    "plt.xlabel('Rating')\n",
    "plt.ylabel('Count')\n",
    "plt.show()\n"
   ]
  },
  {
   "cell_type": "code",
   "execution_count": 119,
   "metadata": {},
   "outputs": [
    {
     "name": "stdout",
     "output_type": "stream",
     "text": [
      "Negative Reviews Shape: (20000, 11)\n",
      "Neutral Reviews Shape: (20000, 11)\n",
      "Positive Reviews Shape: (20000, 11)\n"
     ]
    }
   ],
   "source": [
    "print(\"Negative Reviews Shape:\", dfnegative.shape)\n",
    "print(\"Neutral Reviews Shape:\", dfneutral.shape)\n",
    "print(\"Positive Reviews Shape:\", dfpositive.shape)\n"
   ]
  },
  {
   "cell_type": "code",
   "execution_count": 120,
   "metadata": {},
   "outputs": [
    {
     "data": {
      "image/png": "[encoded data removed]",
      "text/plain": [
       "<Figure size 640x480 with 1 Axes>"
      ]
     },
     "metadata": {},
     "output_type": "display_data"
    }
   ],
   "source": [
    "import numpy as np\n",
    "\n",
    "# Apply log transformation to review lengths (add 1 to avoid log(0))\n",
    "df['log_review_length'] = np.log1p(df['review_length'])\n",
    "\n",
    "# Plot log-transformed review lengths\n",
    "sns.histplot(df['log_review_length'], bins=30, kde=True, color='purple')\n",
    "plt.title('Log-Transformed Review Length Distribution')\n",
    "plt.xlabel('Log(Number of Words)')\n",
    "plt.ylabel('Frequency')\n",
    "plt.show()\n"
   ]
  },
  {
   "cell_type": "code",
   "execution_count": 121,
   "metadata": {},
   "outputs": [
    {
     "data": {
      "text/html": [
       "<div>\n",
       "<style scoped>\n",
       "    .dataframe tbody tr th:only-of-type {\n",
       "        vertical-align: middle;\n",
       "    }\n",
       "\n",
       "    .dataframe tbody tr th {\n",
       "        vertical-align: top;\n",
       "    }\n",
       "\n",
       "    .dataframe thead th {\n",
       "        text-align: right;\n",
       "    }\n",
       "</style>\n",
       "<table border=\"1\" class=\"dataframe\">\n",
       "  <thead>\n",
       "    <tr style=\"text-align: right;\">\n",
       "      <th></th>\n",
       "      <th>reviewText</th>\n",
       "      <th>overall</th>\n",
       "      <th>summary</th>\n",
       "      <th>reviewTime</th>\n",
       "      <th>helpful_ratio</th>\n",
       "      <th>reviewLength</th>\n",
       "      <th>Sentiment</th>\n",
       "      <th>helpfulness_score</th>\n",
       "      <th>summary_length</th>\n",
       "      <th>review_length</th>\n",
       "      <th>combined_score</th>\n",
       "      <th>log_review_length</th>\n",
       "    </tr>\n",
       "  </thead>\n",
       "  <tbody>\n",
       "    <tr>\n",
       "      <th>1040782</th>\n",
       "      <td>UPDATE: I changed my review from 3 stars to 1 ...</td>\n",
       "      <td>1</td>\n",
       "      <td>Beware: You can't buy more glasses...  But it ...</td>\n",
       "      <td>10 5, 2011</td>\n",
       "      <td>0.869565</td>\n",
       "      <td>29948</td>\n",
       "      <td>0</td>\n",
       "      <td>0.869565</td>\n",
       "      <td>65</td>\n",
       "      <td>29948</td>\n",
       "      <td>3003.03913</td>\n",
       "      <td>10.307251</td>\n",
       "    </tr>\n",
       "    <tr>\n",
       "      <th>398618</th>\n",
       "      <td>I was asked to review the Sony XDR-F1HD by Jef...</td>\n",
       "      <td>2</td>\n",
       "      <td>iBiquity/IBOC HD (Hybrid digital) radio system...</td>\n",
       "      <td>03 29, 2009</td>\n",
       "      <td>0.773585</td>\n",
       "      <td>24091</td>\n",
       "      <td>0</td>\n",
       "      <td>0.773585</td>\n",
       "      <td>117</td>\n",
       "      <td>24091</td>\n",
       "      <td>2422.34717</td>\n",
       "      <td>10.089635</td>\n",
       "    </tr>\n",
       "    <tr>\n",
       "      <th>742715</th>\n",
       "      <td>*Update 5*Since receiving the refurbished GO 7...</td>\n",
       "      <td>1</td>\n",
       "      <td>Go with another brand. Garmin and Magellan Cus...</td>\n",
       "      <td>08 28, 2010</td>\n",
       "      <td>1.000000</td>\n",
       "      <td>22028</td>\n",
       "      <td>0</td>\n",
       "      <td>1.000000</td>\n",
       "      <td>115</td>\n",
       "      <td>22028</td>\n",
       "      <td>2216.30000</td>\n",
       "      <td>10.000115</td>\n",
       "    </tr>\n",
       "    <tr>\n",
       "      <th>1555104</th>\n",
       "      <td>Edit- 5/15These TVs have an amazing picture. N...</td>\n",
       "      <td>1</td>\n",
       "      <td>Buyer Beware! This model HAS ITS ISSUES! MAKE ...</td>\n",
       "      <td>03 20, 2013</td>\n",
       "      <td>0.430435</td>\n",
       "      <td>20411</td>\n",
       "      <td>0</td>\n",
       "      <td>0.430435</td>\n",
       "      <td>86</td>\n",
       "      <td>20411</td>\n",
       "      <td>2050.56087</td>\n",
       "      <td>9.923878</td>\n",
       "    </tr>\n",
       "    <tr>\n",
       "      <th>1686981</th>\n",
       "      <td>PROSLess expensive than Microsoft OfficeCan op...</td>\n",
       "      <td>2</td>\n",
       "      <td>Past Perfect--aging interface and lesser capab...</td>\n",
       "      <td>06 23, 2014</td>\n",
       "      <td>1.000000</td>\n",
       "      <td>20114</td>\n",
       "      <td>0</td>\n",
       "      <td>1.000000</td>\n",
       "      <td>114</td>\n",
       "      <td>20114</td>\n",
       "      <td>2024.80000</td>\n",
       "      <td>9.909221</td>\n",
       "    </tr>\n",
       "  </tbody>\n",
       "</table>\n",
       "</div>"
      ],
      "text/plain": [
       "                                                reviewText  overall  \\\n",
       "1040782  UPDATE: I changed my review from 3 stars to 1 ...        1   \n",
       "398618   I was asked to review the Sony XDR-F1HD by Jef...        2   \n",
       "742715   *Update 5*Since receiving the refurbished GO 7...        1   \n",
       "1555104  Edit- 5/15These TVs have an amazing picture. N...        1   \n",
       "1686981  PROSLess expensive than Microsoft OfficeCan op...        2   \n",
       "\n",
       "                                                   summary   reviewTime  \\\n",
       "1040782  Beware: You can't buy more glasses...  But it ...   10 5, 2011   \n",
       "398618   iBiquity/IBOC HD (Hybrid digital) radio system...  03 29, 2009   \n",
       "742715   Go with another brand. Garmin and Magellan Cus...  08 28, 2010   \n",
       "1555104  Buyer Beware! This model HAS ITS ISSUES! MAKE ...  03 20, 2013   \n",
       "1686981  Past Perfect--aging interface and lesser capab...  06 23, 2014   \n",
       "\n",
       "         helpful_ratio  reviewLength  Sentiment  helpfulness_score  \\\n",
       "1040782       0.869565         29948          0           0.869565   \n",
       "398618        0.773585         24091          0           0.773585   \n",
       "742715        1.000000         22028          0           1.000000   \n",
       "1555104       0.430435         20411          0           0.430435   \n",
       "1686981       1.000000         20114          0           1.000000   \n",
       "\n",
       "         summary_length  review_length  combined_score  log_review_length  \n",
       "1040782              65          29948      3003.03913          10.307251  \n",
       "398618              117          24091      2422.34717          10.089635  \n",
       "742715              115          22028      2216.30000          10.000115  \n",
       "1555104              86          20411      2050.56087           9.923878  \n",
       "1686981             114          20114      2024.80000           9.909221  "
      ]
     },
     "execution_count": 121,
     "metadata": {},
     "output_type": "execute_result"
    }
   ],
   "source": [
    "df.head()"
   ]
  },
  {
   "cell_type": "code",
   "execution_count": 122,
   "metadata": {},
   "outputs": [
    {
     "data": {
      "image/png": "[encoded data removed]",
      "text/plain": [
       "<Figure size 640x480 with 1 Axes>"
      ]
     },
     "metadata": {},
     "output_type": "display_data"
    }
   ],
   "source": [
    "import numpy as np\n",
    "\n",
    "# Apply log transformation to review lengths (add 1 to avoid log(0))\n",
    "# df['log_review_length'] = np.log1p(df['review_length'])\n",
    "\n",
    "# Plot log-transformed review lengths\n",
    "sns.histplot(df['helpfulness_score'], bins=30, kde=True, color='blue')\n",
    "plt.title('Helpfulness Distribution')\n",
    "plt.xlabel('Helpfulness Score')\n",
    "plt.ylabel('Frequency')\n",
    "plt.show()\n"
   ]
  },
  {
   "cell_type": "code",
   "execution_count": 123,
   "metadata": {},
   "outputs": [
    {
     "name": "stderr",
     "output_type": "stream",
     "text": [
      "C:\\Users\\Abdul Rehman\\AppData\\Local\\Temp\\ipykernel_63904\\1084041114.py:1: FutureWarning: \n",
      "\n",
      "Passing `palette` without assigning `hue` is deprecated and will be removed in v0.14.0. Assign the `x` variable to `hue` and set `legend=False` for the same effect.\n",
      "\n",
      "  sns.countplot(data=df, x='Sentiment', palette='viridis')\n"
     ]
    },
    {
     "data": {
      "image/png": "[encoded data removed]",
      "text/plain": [
       "<Figure size 640x480 with 1 Axes>"
      ]
     },
     "metadata": {},
     "output_type": "display_data"
    }
   ],
   "source": [
    "sns.countplot(data=df, x='Sentiment', palette='viridis')\n",
    "plt.title('Distribution of Ratings')\n",
    "plt.xlabel('Sentiment')\n",
    "plt.ylabel('Count')\n",
    "plt.show()\n"
   ]
  },
  {
   "cell_type": "markdown",
   "metadata": {},
   "source": [
    "Preprocessing"
   ]
  },
  {
   "cell_type": "code",
   "execution_count": 124,
   "metadata": {},
   "outputs": [],
   "source": [
    "# Create a new DataFrame with selected columns\n",
    "data = df[['reviewText', 'summary', 'reviewLength', 'Sentiment', 'summary_length']]"
   ]
  },
  {
   "cell_type": "code",
   "execution_count": 125,
   "metadata": {},
   "outputs": [],
   "source": [
    "from nltk.corpus import stopwords \n",
    "from nltk.stem.porter import PorterStemmer\n",
    "from nltk.stem import SnowballStemmer\n",
    "\n",
    "\n",
    "def cleanText(raw_text, remove_stopwords=True, stemming=False, split_text=False, ):\n",
    "    '''\n",
    "    Convert a raw review to a cleaned review\n",
    "    '''\n",
    "    text = BeautifulSoup(raw_text, 'lxml').get_text()  #remove html\n",
    "    # 1. Lowercase text\n",
    "    text = text.lower()\n",
    "    # 2. Remove URLs\n",
    "    text = re.sub(r'http\\S+|www\\S+', '', text)\n",
    "    # 3. Remove emails\n",
    "    text = re.sub(r'\\S+@\\S+\\.\\S+', '', text)\n",
    "    # 4. Remove special characters and punctuation\n",
    "    text = re.sub(r'[^\\w\\s]', '', text)\n",
    "    # 5. Remove extra whitespace\n",
    "    text = re.sub(r'\\s+', ' ', text).strip()\n",
    "    letters_only = re.sub(\"[^a-zA-Z]\", \" \", text)  # remove non-character\n",
    "    words = letters_only.lower().split() # convert to lower case \n",
    "\n",
    "    \n",
    "    if remove_stopwords: # remove stopword\n",
    "        stops = set(stopwords.words(\"english\"))\n",
    "        stops.remove('not')\n",
    "        stops.remove('no')\n",
    "        words = [w for w in words if not w in stops]\n",
    "    if stemming==True: # stemming\n",
    "        stemmer = PorterStemmer()\n",
    "        stemmer = SnowballStemmer('english') \n",
    "        words = [stemmer.stem(w) for w in words]\n",
    "        \n",
    "    if split_text==True:  # split text\n",
    "        return (words)\n",
    "    \n",
    "    return( \" \".join(words))"
   ]
  },
  {
   "cell_type": "code",
   "execution_count": 126,
   "metadata": {},
   "outputs": [
    {
     "name": "stderr",
     "output_type": "stream",
     "text": [
      "C:\\Users\\Abdul Rehman\\AppData\\Local\\Temp\\ipykernel_63904\\1616153066.py:2: SettingWithCopyWarning: \n",
      "A value is trying to be set on a copy of a slice from a DataFrame.\n",
      "Try using .loc[row_indexer,col_indexer] = value instead\n",
      "\n",
      "See the caveats in the documentation: https://pandas.pydata.org/pandas-docs/stable/user_guide/indexing.html#returning-a-view-versus-a-copy\n",
      "  data['cleaned_reviewText'] = data['reviewText'].apply(lambda x: cleanText(x, remove_stopwords=True, stemming=True))\n",
      "C:\\Users\\Abdul Rehman\\AppData\\Roaming\\Python\\Python311\\site-packages\\bs4\\__init__.py:435: MarkupResemblesLocatorWarning: The input looks more like a filename than markup. You may want to open this file and pass the filehandle into Beautiful Soup.\n",
      "  warnings.warn(\n",
      "C:\\Users\\Abdul Rehman\\AppData\\Local\\Temp\\ipykernel_63904\\1616153066.py:3: SettingWithCopyWarning: \n",
      "A value is trying to be set on a copy of a slice from a DataFrame.\n",
      "Try using .loc[row_indexer,col_indexer] = value instead\n",
      "\n",
      "See the caveats in the documentation: https://pandas.pydata.org/pandas-docs/stable/user_guide/indexing.html#returning-a-view-versus-a-copy\n",
      "  data['cleaned_summary'] = data['summary'].apply(lambda x: cleanText(x, remove_stopwords=True, stemming=True))\n"
     ]
    }
   ],
   "source": [
    "# Clean reviewText and summary\n",
    "data['cleaned_reviewText'] = data['reviewText'].apply(lambda x: cleanText(x, remove_stopwords=True, stemming=True))\n",
    "data['cleaned_summary'] = data['summary'].apply(lambda x: cleanText(x, remove_stopwords=True, stemming=True))\n",
    "\n"
   ]
  },
  {
   "cell_type": "code",
   "execution_count": 127,
   "metadata": {},
   "outputs": [],
   "source": [
    "# Function to get polarity and subjectivity\n",
    "from textblob import TextBlob\n",
    "\n",
    "\n",
    "def get_polarity_subjectivity(text):\n",
    "    blob = TextBlob(text)\n",
    "    return blob.sentiment.polarity, blob.sentiment.subjectivity\n",
    "\n",
    "\n",
    "data_Feature = data.copy()\n",
    "\n",
    "# Apply the function to 'cleaned_reviewText' and 'cleaned_summary'\n",
    "data_Feature[['review_polarity', 'review_subjectivity']] = data_Feature['cleaned_reviewText'].apply(lambda x: pd.Series(get_polarity_subjectivity(x)))\n",
    "data_Feature[['summary_polarity', 'summary_subjectivity']] = data_Feature['cleaned_summary'].apply(lambda x: pd.Series(get_polarity_subjectivity(x)))"
   ]
  },
  {
   "cell_type": "code",
   "execution_count": 128,
   "metadata": {},
   "outputs": [
    {
     "data": {
      "text/html": [
       "<div>\n",
       "<style scoped>\n",
       "    .dataframe tbody tr th:only-of-type {\n",
       "        vertical-align: middle;\n",
       "    }\n",
       "\n",
       "    .dataframe tbody tr th {\n",
       "        vertical-align: top;\n",
       "    }\n",
       "\n",
       "    .dataframe thead th {\n",
       "        text-align: right;\n",
       "    }\n",
       "</style>\n",
       "<table border=\"1\" class=\"dataframe\">\n",
       "  <thead>\n",
       "    <tr style=\"text-align: right;\">\n",
       "      <th></th>\n",
       "      <th>reviewText</th>\n",
       "      <th>summary</th>\n",
       "      <th>reviewLength</th>\n",
       "      <th>Sentiment</th>\n",
       "      <th>summary_length</th>\n",
       "      <th>cleaned_reviewText</th>\n",
       "      <th>cleaned_summary</th>\n",
       "      <th>review_polarity</th>\n",
       "      <th>review_subjectivity</th>\n",
       "      <th>summary_polarity</th>\n",
       "      <th>summary_subjectivity</th>\n",
       "    </tr>\n",
       "  </thead>\n",
       "  <tbody>\n",
       "    <tr>\n",
       "      <th>1040782</th>\n",
       "      <td>UPDATE: I changed my review from 3 stars to 1 ...</td>\n",
       "      <td>Beware: You can't buy more glasses...  But it ...</td>\n",
       "      <td>29948</td>\n",
       "      <td>0</td>\n",
       "      <td>65</td>\n",
       "      <td>updat chang review star year fair light usag m...</td>\n",
       "      <td>bewar cant buy glass work mac</td>\n",
       "      <td>0.120715</td>\n",
       "      <td>0.458643</td>\n",
       "      <td>0.00</td>\n",
       "      <td>0.000000</td>\n",
       "    </tr>\n",
       "    <tr>\n",
       "      <th>398618</th>\n",
       "      <td>I was asked to review the Sony XDR-F1HD by Jef...</td>\n",
       "      <td>iBiquity/IBOC HD (Hybrid digital) radio system...</td>\n",
       "      <td>24091</td>\n",
       "      <td>0</td>\n",
       "      <td>117</td>\n",
       "      <td>ask review soni xdrf hd jeff nelson public aff...</td>\n",
       "      <td>ibiquityiboc hd hybrid digit radio system eval...</td>\n",
       "      <td>0.109717</td>\n",
       "      <td>0.417945</td>\n",
       "      <td>0.00</td>\n",
       "      <td>0.000000</td>\n",
       "    </tr>\n",
       "    <tr>\n",
       "      <th>742715</th>\n",
       "      <td>*Update 5*Since receiving the refurbished GO 7...</td>\n",
       "      <td>Go with another brand. Garmin and Magellan Cus...</td>\n",
       "      <td>22028</td>\n",
       "      <td>0</td>\n",
       "      <td>115</td>\n",
       "      <td>updat sinc receiv refurbish go tm live here la...</td>\n",
       "      <td>go anoth brand garmin magellan custom servic u...</td>\n",
       "      <td>0.157839</td>\n",
       "      <td>0.385811</td>\n",
       "      <td>0.50</td>\n",
       "      <td>0.500000</td>\n",
       "    </tr>\n",
       "    <tr>\n",
       "      <th>1555104</th>\n",
       "      <td>Edit- 5/15These TVs have an amazing picture. N...</td>\n",
       "      <td>Buyer Beware! This model HAS ITS ISSUES! MAKE ...</td>\n",
       "      <td>20411</td>\n",
       "      <td>0</td>\n",
       "      <td>86</td>\n",
       "      <td>edit tvs amaz pictur no doubt look bad review ...</td>\n",
       "      <td>buyer bewar model issu make sure buy extend wa...</td>\n",
       "      <td>0.064855</td>\n",
       "      <td>0.442782</td>\n",
       "      <td>0.50</td>\n",
       "      <td>0.888889</td>\n",
       "    </tr>\n",
       "    <tr>\n",
       "      <th>1686981</th>\n",
       "      <td>PROSLess expensive than Microsoft OfficeCan op...</td>\n",
       "      <td>Past Perfect--aging interface and lesser capab...</td>\n",
       "      <td>20114</td>\n",
       "      <td>0</td>\n",
       "      <td>114</td>\n",
       "      <td>prosless expens microsoft officecan open popul...</td>\n",
       "      <td>past perfectag interfac lesser capabl make sui...</td>\n",
       "      <td>0.188084</td>\n",
       "      <td>0.447816</td>\n",
       "      <td>-0.25</td>\n",
       "      <td>0.583333</td>\n",
       "    </tr>\n",
       "  </tbody>\n",
       "</table>\n",
       "</div>"
      ],
      "text/plain": [
       "                                                reviewText  \\\n",
       "1040782  UPDATE: I changed my review from 3 stars to 1 ...   \n",
       "398618   I was asked to review the Sony XDR-F1HD by Jef...   \n",
       "742715   *Update 5*Since receiving the refurbished GO 7...   \n",
       "1555104  Edit- 5/15These TVs have an amazing picture. N...   \n",
       "1686981  PROSLess expensive than Microsoft OfficeCan op...   \n",
       "\n",
       "                                                   summary  reviewLength  \\\n",
       "1040782  Beware: You can't buy more glasses...  But it ...         29948   \n",
       "398618   iBiquity/IBOC HD (Hybrid digital) radio system...         24091   \n",
       "742715   Go with another brand. Garmin and Magellan Cus...         22028   \n",
       "1555104  Buyer Beware! This model HAS ITS ISSUES! MAKE ...         20411   \n",
       "1686981  Past Perfect--aging interface and lesser capab...         20114   \n",
       "\n",
       "         Sentiment  summary_length  \\\n",
       "1040782          0              65   \n",
       "398618           0             117   \n",
       "742715           0             115   \n",
       "1555104          0              86   \n",
       "1686981          0             114   \n",
       "\n",
       "                                        cleaned_reviewText  \\\n",
       "1040782  updat chang review star year fair light usag m...   \n",
       "398618   ask review soni xdrf hd jeff nelson public aff...   \n",
       "742715   updat sinc receiv refurbish go tm live here la...   \n",
       "1555104  edit tvs amaz pictur no doubt look bad review ...   \n",
       "1686981  prosless expens microsoft officecan open popul...   \n",
       "\n",
       "                                           cleaned_summary  review_polarity  \\\n",
       "1040782                      bewar cant buy glass work mac         0.120715   \n",
       "398618   ibiquityiboc hd hybrid digit radio system eval...         0.109717   \n",
       "742715   go anoth brand garmin magellan custom servic u...         0.157839   \n",
       "1555104  buyer bewar model issu make sure buy extend wa...         0.064855   \n",
       "1686981  past perfectag interfac lesser capabl make sui...         0.188084   \n",
       "\n",
       "         review_subjectivity  summary_polarity  summary_subjectivity  \n",
       "1040782             0.458643              0.00              0.000000  \n",
       "398618              0.417945              0.00              0.000000  \n",
       "742715              0.385811              0.50              0.500000  \n",
       "1555104             0.442782              0.50              0.888889  \n",
       "1686981             0.447816             -0.25              0.583333  "
      ]
     },
     "execution_count": 128,
     "metadata": {},
     "output_type": "execute_result"
    }
   ],
   "source": [
    "data_Feature.head()"
   ]
  },
  {
   "cell_type": "code",
   "execution_count": 44,
   "metadata": {},
   "outputs": [
    {
     "data": {
      "text/html": [
       "<div>\n",
       "<style scoped>\n",
       "    .dataframe tbody tr th:only-of-type {\n",
       "        vertical-align: middle;\n",
       "    }\n",
       "\n",
       "    .dataframe tbody tr th {\n",
       "        vertical-align: top;\n",
       "    }\n",
       "\n",
       "    .dataframe thead th {\n",
       "        text-align: right;\n",
       "    }\n",
       "</style>\n",
       "<table border=\"1\" class=\"dataframe\">\n",
       "  <thead>\n",
       "    <tr style=\"text-align: right;\">\n",
       "      <th></th>\n",
       "      <th>reviewText</th>\n",
       "      <th>summary</th>\n",
       "      <th>reviewLength</th>\n",
       "      <th>Sentiment</th>\n",
       "      <th>summary_length</th>\n",
       "      <th>cleaned_reviewText</th>\n",
       "      <th>cleaned_summary</th>\n",
       "    </tr>\n",
       "  </thead>\n",
       "  <tbody>\n",
       "    <tr>\n",
       "      <th>1040782</th>\n",
       "      <td>UPDATE: I changed my review from 3 stars to 1 ...</td>\n",
       "      <td>Beware: You can't buy more glasses...  But it ...</td>\n",
       "      <td>29948</td>\n",
       "      <td>0</td>\n",
       "      <td>65</td>\n",
       "      <td>updat chang review star year fair light usag m...</td>\n",
       "      <td>bewar cant buy glass work mac</td>\n",
       "    </tr>\n",
       "    <tr>\n",
       "      <th>398618</th>\n",
       "      <td>I was asked to review the Sony XDR-F1HD by Jef...</td>\n",
       "      <td>iBiquity/IBOC HD (Hybrid digital) radio system...</td>\n",
       "      <td>24091</td>\n",
       "      <td>0</td>\n",
       "      <td>117</td>\n",
       "      <td>ask review soni xdrf hd jeff nelson public aff...</td>\n",
       "      <td>ibiquityiboc hd hybrid digit radio system eval...</td>\n",
       "    </tr>\n",
       "    <tr>\n",
       "      <th>742715</th>\n",
       "      <td>*Update 5*Since receiving the refurbished GO 7...</td>\n",
       "      <td>Go with another brand. Garmin and Magellan Cus...</td>\n",
       "      <td>22028</td>\n",
       "      <td>0</td>\n",
       "      <td>115</td>\n",
       "      <td>updat sinc receiv refurbish go tm live here la...</td>\n",
       "      <td>go anoth brand garmin magellan custom servic u...</td>\n",
       "    </tr>\n",
       "    <tr>\n",
       "      <th>1555104</th>\n",
       "      <td>Edit- 5/15These TVs have an amazing picture. N...</td>\n",
       "      <td>Buyer Beware! This model HAS ITS ISSUES! MAKE ...</td>\n",
       "      <td>20411</td>\n",
       "      <td>0</td>\n",
       "      <td>86</td>\n",
       "      <td>edit tvs amaz pictur no doubt look bad review ...</td>\n",
       "      <td>buyer bewar model issu make sure buy extend wa...</td>\n",
       "    </tr>\n",
       "    <tr>\n",
       "      <th>1686981</th>\n",
       "      <td>PROSLess expensive than Microsoft OfficeCan op...</td>\n",
       "      <td>Past Perfect--aging interface and lesser capab...</td>\n",
       "      <td>20114</td>\n",
       "      <td>0</td>\n",
       "      <td>114</td>\n",
       "      <td>prosless expens microsoft officecan open popul...</td>\n",
       "      <td>past perfectag interfac lesser capabl make sui...</td>\n",
       "    </tr>\n",
       "  </tbody>\n",
       "</table>\n",
       "</div>"
      ],
      "text/plain": [
       "                                                reviewText  \\\n",
       "1040782  UPDATE: I changed my review from 3 stars to 1 ...   \n",
       "398618   I was asked to review the Sony XDR-F1HD by Jef...   \n",
       "742715   *Update 5*Since receiving the refurbished GO 7...   \n",
       "1555104  Edit- 5/15These TVs have an amazing picture. N...   \n",
       "1686981  PROSLess expensive than Microsoft OfficeCan op...   \n",
       "\n",
       "                                                   summary  reviewLength  \\\n",
       "1040782  Beware: You can't buy more glasses...  But it ...         29948   \n",
       "398618   iBiquity/IBOC HD (Hybrid digital) radio system...         24091   \n",
       "742715   Go with another brand. Garmin and Magellan Cus...         22028   \n",
       "1555104  Buyer Beware! This model HAS ITS ISSUES! MAKE ...         20411   \n",
       "1686981  Past Perfect--aging interface and lesser capab...         20114   \n",
       "\n",
       "         Sentiment  summary_length  \\\n",
       "1040782          0              65   \n",
       "398618           0             117   \n",
       "742715           0             115   \n",
       "1555104          0              86   \n",
       "1686981          0             114   \n",
       "\n",
       "                                        cleaned_reviewText  \\\n",
       "1040782  updat chang review star year fair light usag m...   \n",
       "398618   ask review soni xdrf hd jeff nelson public aff...   \n",
       "742715   updat sinc receiv refurbish go tm live here la...   \n",
       "1555104  edit tvs amaz pictur no doubt look bad review ...   \n",
       "1686981  prosless expens microsoft officecan open popul...   \n",
       "\n",
       "                                           cleaned_summary  \n",
       "1040782                      bewar cant buy glass work mac  \n",
       "398618   ibiquityiboc hd hybrid digit radio system eval...  \n",
       "742715   go anoth brand garmin magellan custom servic u...  \n",
       "1555104  buyer bewar model issu make sure buy extend wa...  \n",
       "1686981  past perfectag interfac lesser capabl make sui...  "
      ]
     },
     "execution_count": 44,
     "metadata": {},
     "output_type": "execute_result"
    }
   ],
   "source": [
    "data.head()"
   ]
  },
  {
   "cell_type": "code",
   "execution_count": 129,
   "metadata": {},
   "outputs": [],
   "source": [
    "X = data_Feature[['cleaned_reviewText', 'cleaned_summary', 'review_polarity', \n",
    "        'review_subjectivity', 'reviewLength', 'summary_length']]\n"
   ]
  },
  {
   "cell_type": "code",
   "execution_count": 130,
   "metadata": {},
   "outputs": [],
   "source": [
    "\n",
    "\n",
    "# Step 1: Create the TF-IDF vectorizer for cleaned_reviewText and cleaned_summary\n",
    "vectorizer_reviewText = TfidfVectorizer(\n",
    "    min_df=5,  # Minimum document frequency of 5\n",
    "    ngram_range=(1, 2),  # Include unigrams and bigrams\n",
    "    strip_accents='unicode',\n",
    "    binary=True,  # Binary representation (1 or 0) instead of frequency\n",
    "    max_features=5000  # Limit to top 5000 features\n",
    ")\n",
    "\n",
    "vectorizer_summary = TfidfVectorizer(\n",
    "    min_df=5,  # Minimum document frequency of 5\n",
    "    ngram_range=(1, 2),  # Include unigrams and bigrams\n",
    "    strip_accents='unicode',\n",
    "    binary=True,  # Binary representation (1 or 0) instead of frequency\n",
    "    max_features=5000  # Limit to top 5000 features\n",
    ")\n",
    "\n",
    "# Step 2: Fit and transform the cleaned_reviewText and cleaned_summary\n",
    "X_reviewText = vectorizer_reviewText.fit_transform(X['cleaned_reviewText'])\n",
    "X_summary = vectorizer_summary.fit_transform(X['cleaned_summary'])\n",
    "\n",
    "\n"
   ]
  },
  {
   "cell_type": "code",
   "execution_count": 131,
   "metadata": {},
   "outputs": [
    {
     "name": "stdout",
     "output_type": "stream",
     "text": [
      "Shape of the final combined feature matrix: (60000, 10004)\n"
     ]
    }
   ],
   "source": [
    "from scipy.sparse import hstack\n",
    "\n",
    "# Step 3: Combine the TF-IDF matrices from cleaned_reviewText and cleaned_summary\n",
    "X_combined_text = hstack([X_reviewText, X_summary])\n",
    "\n",
    "# Step 4: Extract numerical features\n",
    "numerical_features = X[['review_polarity', 'review_subjectivity', 'reviewLength', 'summary_length']].values\n",
    "\n",
    "# Convert the numerical features into a sparse matrix (to keep it compatible with the TF-IDF matrix)\n",
    "from scipy.sparse import csr_matrix\n",
    "numerical_sparse = csr_matrix(numerical_features)\n",
    "\n",
    "# Step 5: Combine the TF-IDF matrix and numerical features\n",
    "X_final = hstack([X_combined_text, numerical_sparse])\n",
    "\n",
    "# Check the shape of the final feature matrix\n",
    "print(f\"Shape of the final combined feature matrix: {X_final.shape}\")"
   ]
  },
  {
   "cell_type": "code",
   "execution_count": 132,
   "metadata": {},
   "outputs": [
    {
     "name": "stdout",
     "output_type": "stream",
     "text": [
      "Accuracy: 0.6724\n",
      "Classification Report:\n",
      "              precision    recall  f1-score   support\n",
      "\n",
      "           0       0.66      0.65      0.65      3963\n",
      "           1       0.79      0.79      0.79      4023\n",
      "           2       0.57      0.58      0.57      4014\n",
      "\n",
      "    accuracy                           0.67     12000\n",
      "   macro avg       0.67      0.67      0.67     12000\n",
      "weighted avg       0.67      0.67      0.67     12000\n",
      "\n",
      "Model Coefficients:\n",
      "[[ 0.03880029 -0.05022927  0.08777124 ...  2.14355222  0.55618938\n",
      "   0.05781435]\n",
      " [-0.04371543  0.07888562 -0.12482252 ... -4.26813173 -0.72060632\n",
      "   0.02870794]\n",
      " [ 0.00491513 -0.02865635  0.03705128 ...  2.12457951  0.16441695\n",
      "  -0.08652229]]\n"
     ]
    }
   ],
   "source": [
    "from sklearn.metrics import accuracy_score\n",
    "# Step 1: Prepare the data\n",
    "# Assuming `X_final` is the combined feature matrix\n",
    "# You need the target variable 'Sentiment' (which should be a categorical variable)\n",
    "y = data_Feature['Sentiment']\n",
    "\n",
    "# Step 2: Split the data into training and testing sets\n",
    "X_train, X_test, y_train, y_test = train_test_split(X_final, y, test_size=0.2, random_state=42)\n",
    "\n",
    "# Step 3: Optional - Scale the data (especially if features vary in magnitude)\n",
    "scaler = StandardScaler(with_mean=False)  # Set with_mean=False since it's a sparse matrix\n",
    "X_train_scaled = scaler.fit_transform(X_train)\n",
    "X_test_scaled = scaler.transform(X_test)\n",
    "\n",
    "# Step 4: Train a Logistic Regression model\n",
    "model = LogisticRegression(solver='lbfgs', max_iter=500) # Set max_iter to ensure convergence\n",
    "model.fit(X_train_scaled, y_train)\n",
    "\n",
    "# Step 5: Make predictions on the test set\n",
    "y_pred = model.predict(X_test_scaled)\n",
    "\n",
    "# Step 6: Evaluate the model's performance\n",
    "accuracy = accuracy_score(y_test, y_pred)\n",
    "print(f\"Accuracy: {accuracy:.4f}\")\n",
    "\n",
    "# Display classification report (precision, recall, F1-score, etc.)\n",
    "print(\"Classification Report:\")\n",
    "print(classification_report(y_test, y_pred))\n",
    "\n",
    "# Optional: Get the model's coefficients for feature importance (if needed)\n",
    "print(\"Model Coefficients:\")\n",
    "print(model.coef_)\n"
   ]
  },
  {
   "cell_type": "code",
   "execution_count": 133,
   "metadata": {},
   "outputs": [
    {
     "data": {
      "text/plain": [
       "['scaler_sunday2.joblib']"
      ]
     },
     "execution_count": 133,
     "metadata": {},
     "output_type": "execute_result"
    }
   ],
   "source": [
    "# Save the vectorizers and other necessary components\n",
    "joblib.dump(vectorizer_reviewText, 'vectorizer_reviewText.joblib')\n",
    "joblib.dump(vectorizer_summary, 'vectorizer_summary.joblib')  # Save the summary vectorizer\n",
    "joblib.dump(scaler, 'scaler_sunday2.joblib')  # Save the scaler if it's used\n"
   ]
  },
  {
   "cell_type": "code",
   "execution_count": 135,
   "metadata": {},
   "outputs": [
    {
     "data": {
      "text/plain": [
       "['scaler_sunday1.joblib']"
      ]
     },
     "execution_count": 135,
     "metadata": {},
     "output_type": "execute_result"
    }
   ],
   "source": [
    "import joblib\n",
    "\n",
    "# Save the model\n",
    "joblib.dump(model, 'sunday2.joblib')\n",
    "\n",
    "# Optionally, save the scaler as well (since you used scaling)\n",
    "joblib.dump(scaler, 'scaler_sunday1.joblib')\n"
   ]
  },
  {
   "cell_type": "code",
   "execution_count": 142,
   "metadata": {},
   "outputs": [
    {
     "name": "stdout",
     "output_type": "stream",
     "text": [
      "Predicted Sentiment: 1\n",
      "Sentiment Label: Positive\n"
     ]
    }
   ],
   "source": [
    "import joblib\n",
    "import numpy as np\n",
    "from scipy.sparse import csr_matrix\n",
    "from sklearn.preprocessing import StandardScaler\n",
    "\n",
    "# Step 1: Load the saved model and vectorizers\n",
    "model = joblib.load('sunday2.joblib')  # Logistic regression model\n",
    "vectorizer_reviewText = joblib.load('vectorizer_reviewText.joblib')  # Tfidf vectorizer for reviewText\n",
    "vectorizer_summary = joblib.load('vectorizer_summary.joblib')  # Tfidf vectorizer for summary\n",
    "scaler = joblib.load('scaler_sunday1.joblib')  # StandardScaler (if applied)\n",
    "\n",
    "# Step 2: Prepare the new data for prediction\n",
    "# Example: you can test with some new data (cleaned review text, summary, and numerical features)\n",
    "new_data = {\n",
    "    'cleaned_reviewText': [\"ugly fake\"],\n",
    "    'cleaned_summary': [\"Highly fake\"],\n",
    "    'review_polarity': [0],  # Example polarity score\n",
    "    'review_subjectivity': [0],  # Example subjectivity score\n",
    "    'reviewLength': [50],  # Example review length\n",
    "    'summary_length': [5]  # Example summary length\n",
    "}\n",
    "\n",
    "# Convert new data into DataFrame (mimicking the format of your training data)\n",
    "import pandas as pd\n",
    "new_df = pd.DataFrame(new_data)\n",
    "\n",
    "# Step 3: Transform the text data using the saved TF-IDF vectorizers\n",
    "X_reviewText_new = vectorizer_reviewText.transform(new_df['cleaned_reviewText'])\n",
    "X_summary_new = vectorizer_summary.transform(new_df['cleaned_summary'])\n",
    "\n",
    "# Combine the transformed text features\n",
    "X_combined_text_new = hstack([X_reviewText_new, X_summary_new])\n",
    "\n",
    "# Step 4: Extract and transform the numerical features for the new data\n",
    "numerical_features_new = new_df[['review_polarity', 'review_subjectivity', 'reviewLength', 'summary_length']].values\n",
    "numerical_sparse_new = csr_matrix(numerical_features_new)\n",
    "\n",
    "# Step 5: Combine the transformed text features and numerical features\n",
    "X_final_new = hstack([X_combined_text_new, numerical_sparse_new])\n",
    "\n",
    "# Step 6: Scale the data if you applied scaling during training\n",
    "X_final_new_scaled = scaler.transform(X_final_new)\n",
    "\n",
    "# Step 7: Make predictions using the trained model\n",
    "y_pred_new = model.predict(X_final_new_scaled)\n",
    "\n",
    "# Step 8: Output the result (the predicted sentiment)\n",
    "print(f\"Predicted Sentiment: {y_pred_new[0]}\")\n",
    "\n",
    "# Optional: If you have a mapping of sentiment values (e.g., 0=Negative, 1=Positive), you can display a label\n",
    "sentiment_labels = {0: 'Negative', 1: 'Positive', 2: 'Neutral'}\n",
    "print(f\"Sentiment Label: {sentiment_labels.get(y_pred_new[0], 'Unknown')}\")\n"
   ]
  },
  {
   "cell_type": "code",
   "execution_count": null,
   "metadata": {},
   "outputs": [],
   "source": []
  },
  {
   "cell_type": "code",
   "execution_count": null,
   "metadata": {},
   "outputs": [],
   "source": []
  },
  {
   "cell_type": "code",
   "execution_count": null,
   "metadata": {},
   "outputs": [],
   "source": []
  },
  {
   "cell_type": "code",
   "execution_count": null,
   "metadata": {},
   "outputs": [],
   "source": []
  },
  {
   "cell_type": "markdown",
   "metadata": {},
   "source": [
    "Single Feature"
   ]
  },
  {
   "cell_type": "code",
   "execution_count": 104,
   "metadata": {},
   "outputs": [],
   "source": [
    "X2 = data_Feature[['cleaned_reviewText']]\n"
   ]
  },
  {
   "cell_type": "code",
   "execution_count": 99,
   "metadata": {},
   "outputs": [],
   "source": [
    "\n",
    "\n",
    "# Step 1: Create the TF-IDF vectorizer for cleaned_reviewText and cleaned_summary\n",
    "vectorizer_reviewText = TfidfVectorizer(\n",
    "    min_df=5,  # Minimum document frequency of 5\n",
    "    ngram_range=(1, 2),  # Include unigrams and bigrams\n",
    "    strip_accents='unicode',\n",
    "    binary=True,  # Binary representation (1 or 0) instead of frequency\n",
    "    max_features=5000  # Limit to top 5000 features\n",
    ")\n",
    "\n",
    "# vectorizer_summary = TfidfVectorizer(\n",
    "#     min_df=5,  # Minimum document frequency of 5\n",
    "#     ngram_range=(1, 2),  # Include unigrams and bigrams\n",
    "#     strip_accents='unicode',\n",
    "#     binary=True,  # Binary representation (1 or 0) instead of frequency\n",
    "#     max_features=5000  # Limit to top 5000 features\n",
    "# )\n",
    "\n",
    "# Step 2: Fit and transform the cleaned_reviewText and cleaned_summary\n",
    "X_reviewText = vectorizer_reviewText.fit_transform(X2['cleaned_reviewText'])\n",
    "# X_summary = vectorizer_summary.fit_transform(X2['cleaned_summary'])\n",
    "\n",
    "\n"
   ]
  },
  {
   "cell_type": "code",
   "execution_count": 105,
   "metadata": {},
   "outputs": [
    {
     "name": "stdout",
     "output_type": "stream",
     "text": [
      "Shape of the final combined feature matrix: (40000, 5000)\n"
     ]
    }
   ],
   "source": [
    "from scipy.sparse import hstack\n",
    "\n",
    "# Step 3: Combine the TF-IDF matrices from cleaned_reviewText and cleaned_summary\n",
    "X_combined_text = hstack([X_reviewText])\n",
    "\n",
    "# Step 4: Extract numerical features\n",
    "# numerical_features = X2[['review_polarity']].values\n",
    "\n",
    "# Convert the numerical features into a sparse matrix (to keep it compatible with the TF-IDF matrix)\n",
    "# from scipy.sparse import csr_matrix\n",
    "# numerical_sparse = csr_matrix(numerical_features)\n",
    "\n",
    "# Step 5: Combine the TF-IDF matrix and numerical features\n",
    "X_final = hstack([X_combined_text])\n",
    "\n",
    "# Check the shape of the final feature matrix\n",
    "print(f\"Shape of the final combined feature matrix: {X_final.shape}\")"
   ]
  },
  {
   "cell_type": "code",
   "execution_count": 106,
   "metadata": {},
   "outputs": [
    {
     "name": "stdout",
     "output_type": "stream",
     "text": [
      "Accuracy: 0.8805\n",
      "Classification Report:\n",
      "              precision    recall  f1-score   support\n",
      "\n",
      "           0       0.88      0.88      0.88      4014\n",
      "           1       0.88      0.88      0.88      3986\n",
      "\n",
      "    accuracy                           0.88      8000\n",
      "   macro avg       0.88      0.88      0.88      8000\n",
      "weighted avg       0.88      0.88      0.88      8000\n",
      "\n",
      "Model Coefficients:\n",
      "[[-0.1361665   0.35920503 -0.17063273 ...  0.28362243  0.12155047\n",
      "   0.35868551]]\n"
     ]
    }
   ],
   "source": [
    "from sklearn.metrics import accuracy_score\n",
    "# Step 1: Prepare the data\n",
    "# Assuming `X_final` is the combined feature matrix\n",
    "# You need the target variable 'Sentiment' (which should be a categorical variable)\n",
    "y = data_Feature['Sentiment']\n",
    "\n",
    "# Step 2: Split the data into training and testing sets\n",
    "X_train, X_test, y_train, y_test = train_test_split(X_final, y, test_size=0.2, random_state=42)\n",
    "\n",
    "# Step 3: Optional - Scale the data (especially if features vary in magnitude)\n",
    "scaler = StandardScaler(with_mean=False)  # Set with_mean=False since it's a sparse matrix\n",
    "X_train_scaled = scaler.fit_transform(X_train)\n",
    "X_test_scaled = scaler.transform(X_test)\n",
    "\n",
    "# Step 4: Train a Logistic Regression model\n",
    "model = LogisticRegression(max_iter=1000)  # Set max_iter to ensure convergence\n",
    "model.fit(X_train_scaled, y_train)\n",
    "\n",
    "# Step 5: Make predictions on the test set\n",
    "y_pred = model.predict(X_test_scaled)\n",
    "\n",
    "# Step 6: Evaluate the model's performance\n",
    "accuracy = accuracy_score(y_test, y_pred)\n",
    "print(f\"Accuracy: {accuracy:.4f}\")\n",
    "\n",
    "# Display classification report (precision, recall, F1-score, etc.)\n",
    "print(\"Classification Report:\")\n",
    "print(classification_report(y_test, y_pred))\n",
    "\n",
    "# Optional: Get the model's coefficients for feature importance (if needed)\n",
    "print(\"Model Coefficients:\")\n",
    "print(model.coef_)\n"
   ]
  },
  {
   "cell_type": "code",
   "execution_count": 83,
   "metadata": {},
   "outputs": [
    {
     "data": {
      "text/plain": [
       "(32000, 10002)"
      ]
     },
     "execution_count": 83,
     "metadata": {},
     "output_type": "execute_result"
    }
   ],
   "source": [
    "X_train_scaled.shape"
   ]
  },
  {
   "cell_type": "code",
   "execution_count": 107,
   "metadata": {},
   "outputs": [
    {
     "data": {
      "text/plain": [
       "['sunday12345.joblib']"
      ]
     },
     "execution_count": 107,
     "metadata": {},
     "output_type": "execute_result"
    }
   ],
   "source": [
    "# Save the vectorizers and other necessary components\n",
    "joblib.dump(vectorizer_reviewText, 'vectorizer_reviewText.joblib')\n",
    "joblib.dump(vectorizer_summary, 'vectorizer_summary.joblib')  # Save the summary vectorizer\n",
    "joblib.dump(scaler, 'scaler_sunday1.joblib')  # Save the scaler if it's used\n",
    "# Save the model\n",
    "joblib.dump(model, 'sunday12345.joblib')\n"
   ]
  },
  {
   "cell_type": "code",
   "execution_count": 109,
   "metadata": {},
   "outputs": [
    {
     "name": "stdout",
     "output_type": "stream",
     "text": [
      "Predicted Sentiment: 0\n",
      "Sentiment Label: Negative\n"
     ]
    }
   ],
   "source": [
    "import joblib\n",
    "import numpy as np\n",
    "from scipy.sparse import csr_matrix\n",
    "from sklearn.preprocessing import StandardScaler\n",
    "\n",
    "# Step 1: Load the saved model and vectorizers\n",
    "model = joblib.load('sunday12345.joblib')  # Logistic regression model\n",
    "vectorizer_reviewText = joblib.load('vectorizer_reviewText.joblib')  # Tfidf vectorizer for reviewText\n",
    "vectorizer_summary = joblib.load('vectorizer_summary.joblib')  # Tfidf vectorizer for summary\n",
    "scaler = joblib.load('scaler_sunday1.joblib')  # StandardScaler (if applied)\n",
    "\n",
    "# Step 2: Prepare the new data for prediction\n",
    "# Example: you can test with some new data (cleaned review text, summary, and numerical features)\n",
    "new_data = {\n",
    "    'cleaned_reviewText': [\"Excellent good beautiful nice highly appricated very good product\"],\n",
    "    # 'cleaned_summary': [\"Good product really loved it\"],\n",
    "    # 'review_polarity': [1],  # Example polarity score\n",
    "    # 'review_subjectivity': [1],  # Example subjectivity score\n",
    "\n",
    "}\n",
    "\n",
    "# Convert new data into DataFrame (mimicking the format of your training data)\n",
    "import pandas as pd\n",
    "new_df = pd.DataFrame(new_data)\n",
    "\n",
    "# Step 3: Transform the text data using the saved TF-IDF vectorizers\n",
    "X_reviewText_new = vectorizer_reviewText.transform(new_df['cleaned_reviewText'])\n",
    "# X_summary_new = vectorizer_summary.transform(new_df['cleaned_summary'])\n",
    "\n",
    "# Combine the transformed text features\n",
    "X_combined_text_new = hstack([X_reviewText_new])\n",
    "\n",
    "# Step 4: Extract and transform the numerical features for the new data\n",
    "# numerical_features_new = new_df[['review_polarity']].values\n",
    "# numerical_sparse_new = csr_matrix(numerical_features_new)\n",
    "\n",
    "# Step 5: Combine the transformed text features and numerical features\n",
    "X_final_new = hstack([X_combined_text_new])\n",
    "\n",
    "# Step 6: Scale the data if you applied scaling during training\n",
    "X_final_new_scaled = scaler.transform(X_final_new)\n",
    "\n",
    "# Step 7: Make predictions using the trained model\n",
    "y_pred_new = model.predict(X_final_new_scaled)\n",
    "\n",
    "# Step 8: Output the result (the predicted sentiment)\n",
    "print(f\"Predicted Sentiment: {y_pred_new[0]}\")\n",
    "\n",
    "# Optional: If you have a mapping of sentiment values (e.g., 0=Negative, 1=Positive), you can display a label\n",
    "sentiment_labels = {0: 'Negative', 1: 'Positive'}\n",
    "print(f\"Sentiment Label: {sentiment_labels.get(y_pred_new[0], 'Unknown')}\")\n"
   ]
  }
 ],
 "metadata": {
  "kernelspec": {
   "display_name": "Python 3",
   "language": "python",
   "name": "python3"
  },
  "language_info": {
   "codemirror_mode": {
    "name": "ipython",
    "version": 3
   },
   "file_extension": ".py",
   "mimetype": "text/x-python",
   "name": "python",
   "nbconvert_exporter": "python",
   "pygments_lexer": "ipython3",
   "version": "3.11.1"
  }
 },
 "nbformat": 4,
 "nbformat_minor": 2
}
